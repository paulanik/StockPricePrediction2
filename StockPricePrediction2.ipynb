{
 "cells": [
  {
   "cell_type": "code",
   "execution_count": 73,
   "id": "90024b92",
   "metadata": {},
   "outputs": [],
   "source": [
    "#Importing all the required libraries\n",
    "\n",
    "import numpy as np\n",
    "import pandas as pd\n",
    "import matplotlib.pyplot as plt\n",
    "import seaborn as sns"
   ]
  },
  {
   "cell_type": "code",
   "execution_count": 74,
   "id": "a0c171f0",
   "metadata": {},
   "outputs": [],
   "source": [
    "# Importing dataset\n",
    "\n",
    "data = pd.read_csv(\"F:\\Workplace\\Code\\Python\\ML\\Condaenv\\Dataset\\StockPricePrediction\\\\prices-split-adjusted.csv\")\n",
    "df = pd.DataFrame(data)"
   ]
  },
  {
   "cell_type": "code",
   "execution_count": 75,
   "id": "ed3b8d72",
   "metadata": {},
   "outputs": [
    {
     "data": {
      "text/html": [
       "<div>\n",
       "<style scoped>\n",
       "    .dataframe tbody tr th:only-of-type {\n",
       "        vertical-align: middle;\n",
       "    }\n",
       "\n",
       "    .dataframe tbody tr th {\n",
       "        vertical-align: top;\n",
       "    }\n",
       "\n",
       "    .dataframe thead th {\n",
       "        text-align: right;\n",
       "    }\n",
       "</style>\n",
       "<table border=\"1\" class=\"dataframe\">\n",
       "  <thead>\n",
       "    <tr style=\"text-align: right;\">\n",
       "      <th></th>\n",
       "      <th>date</th>\n",
       "      <th>symbol</th>\n",
       "      <th>open</th>\n",
       "      <th>close</th>\n",
       "      <th>low</th>\n",
       "      <th>high</th>\n",
       "      <th>volume</th>\n",
       "    </tr>\n",
       "  </thead>\n",
       "  <tbody>\n",
       "    <tr>\n",
       "      <th>0</th>\n",
       "      <td>2016-01-05</td>\n",
       "      <td>WLTW</td>\n",
       "      <td>123.430000</td>\n",
       "      <td>125.839996</td>\n",
       "      <td>122.309998</td>\n",
       "      <td>126.250000</td>\n",
       "      <td>2163600.0</td>\n",
       "    </tr>\n",
       "    <tr>\n",
       "      <th>1</th>\n",
       "      <td>2016-01-06</td>\n",
       "      <td>WLTW</td>\n",
       "      <td>125.239998</td>\n",
       "      <td>119.980003</td>\n",
       "      <td>119.940002</td>\n",
       "      <td>125.540001</td>\n",
       "      <td>2386400.0</td>\n",
       "    </tr>\n",
       "    <tr>\n",
       "      <th>2</th>\n",
       "      <td>2016-01-07</td>\n",
       "      <td>WLTW</td>\n",
       "      <td>116.379997</td>\n",
       "      <td>114.949997</td>\n",
       "      <td>114.930000</td>\n",
       "      <td>119.739998</td>\n",
       "      <td>2489500.0</td>\n",
       "    </tr>\n",
       "    <tr>\n",
       "      <th>3</th>\n",
       "      <td>2016-01-08</td>\n",
       "      <td>WLTW</td>\n",
       "      <td>115.480003</td>\n",
       "      <td>116.620003</td>\n",
       "      <td>113.500000</td>\n",
       "      <td>117.440002</td>\n",
       "      <td>2006300.0</td>\n",
       "    </tr>\n",
       "    <tr>\n",
       "      <th>4</th>\n",
       "      <td>2016-01-11</td>\n",
       "      <td>WLTW</td>\n",
       "      <td>117.010002</td>\n",
       "      <td>114.970001</td>\n",
       "      <td>114.089996</td>\n",
       "      <td>117.330002</td>\n",
       "      <td>1408600.0</td>\n",
       "    </tr>\n",
       "  </tbody>\n",
       "</table>\n",
       "</div>"
      ],
      "text/plain": [
       "         date symbol        open       close         low        high  \\\n",
       "0  2016-01-05   WLTW  123.430000  125.839996  122.309998  126.250000   \n",
       "1  2016-01-06   WLTW  125.239998  119.980003  119.940002  125.540001   \n",
       "2  2016-01-07   WLTW  116.379997  114.949997  114.930000  119.739998   \n",
       "3  2016-01-08   WLTW  115.480003  116.620003  113.500000  117.440002   \n",
       "4  2016-01-11   WLTW  117.010002  114.970001  114.089996  117.330002   \n",
       "\n",
       "      volume  \n",
       "0  2163600.0  \n",
       "1  2386400.0  \n",
       "2  2489500.0  \n",
       "3  2006300.0  \n",
       "4  1408600.0  "
      ]
     },
     "execution_count": 75,
     "metadata": {},
     "output_type": "execute_result"
    }
   ],
   "source": [
    "df.head()"
   ]
  },
  {
   "cell_type": "code",
   "execution_count": 76,
   "id": "7567496a",
   "metadata": {},
   "outputs": [
    {
     "data": {
      "text/html": [
       "<div>\n",
       "<style scoped>\n",
       "    .dataframe tbody tr th:only-of-type {\n",
       "        vertical-align: middle;\n",
       "    }\n",
       "\n",
       "    .dataframe tbody tr th {\n",
       "        vertical-align: top;\n",
       "    }\n",
       "\n",
       "    .dataframe thead th {\n",
       "        text-align: right;\n",
       "    }\n",
       "</style>\n",
       "<table border=\"1\" class=\"dataframe\">\n",
       "  <thead>\n",
       "    <tr style=\"text-align: right;\">\n",
       "      <th></th>\n",
       "      <th>open</th>\n",
       "      <th>close</th>\n",
       "      <th>low</th>\n",
       "      <th>high</th>\n",
       "      <th>volume</th>\n",
       "    </tr>\n",
       "  </thead>\n",
       "  <tbody>\n",
       "    <tr>\n",
       "      <th>count</th>\n",
       "      <td>851264.000000</td>\n",
       "      <td>851264.000000</td>\n",
       "      <td>851264.000000</td>\n",
       "      <td>851264.000000</td>\n",
       "      <td>8.512640e+05</td>\n",
       "    </tr>\n",
       "    <tr>\n",
       "      <th>mean</th>\n",
       "      <td>64.993618</td>\n",
       "      <td>65.011913</td>\n",
       "      <td>64.336541</td>\n",
       "      <td>65.639748</td>\n",
       "      <td>5.415113e+06</td>\n",
       "    </tr>\n",
       "    <tr>\n",
       "      <th>std</th>\n",
       "      <td>75.203893</td>\n",
       "      <td>75.201216</td>\n",
       "      <td>74.459518</td>\n",
       "      <td>75.906861</td>\n",
       "      <td>1.249468e+07</td>\n",
       "    </tr>\n",
       "    <tr>\n",
       "      <th>min</th>\n",
       "      <td>1.660000</td>\n",
       "      <td>1.590000</td>\n",
       "      <td>1.500000</td>\n",
       "      <td>1.810000</td>\n",
       "      <td>0.000000e+00</td>\n",
       "    </tr>\n",
       "    <tr>\n",
       "      <th>25%</th>\n",
       "      <td>31.270000</td>\n",
       "      <td>31.292776</td>\n",
       "      <td>30.940001</td>\n",
       "      <td>31.620001</td>\n",
       "      <td>1.221500e+06</td>\n",
       "    </tr>\n",
       "    <tr>\n",
       "      <th>50%</th>\n",
       "      <td>48.459999</td>\n",
       "      <td>48.480000</td>\n",
       "      <td>47.970001</td>\n",
       "      <td>48.959999</td>\n",
       "      <td>2.476250e+06</td>\n",
       "    </tr>\n",
       "    <tr>\n",
       "      <th>75%</th>\n",
       "      <td>75.120003</td>\n",
       "      <td>75.139999</td>\n",
       "      <td>74.400002</td>\n",
       "      <td>75.849998</td>\n",
       "      <td>5.222500e+06</td>\n",
       "    </tr>\n",
       "    <tr>\n",
       "      <th>max</th>\n",
       "      <td>1584.439941</td>\n",
       "      <td>1578.130005</td>\n",
       "      <td>1549.939941</td>\n",
       "      <td>1600.930054</td>\n",
       "      <td>8.596434e+08</td>\n",
       "    </tr>\n",
       "  </tbody>\n",
       "</table>\n",
       "</div>"
      ],
      "text/plain": [
       "                open          close            low           high  \\\n",
       "count  851264.000000  851264.000000  851264.000000  851264.000000   \n",
       "mean       64.993618      65.011913      64.336541      65.639748   \n",
       "std        75.203893      75.201216      74.459518      75.906861   \n",
       "min         1.660000       1.590000       1.500000       1.810000   \n",
       "25%        31.270000      31.292776      30.940001      31.620001   \n",
       "50%        48.459999      48.480000      47.970001      48.959999   \n",
       "75%        75.120003      75.139999      74.400002      75.849998   \n",
       "max      1584.439941    1578.130005    1549.939941    1600.930054   \n",
       "\n",
       "             volume  \n",
       "count  8.512640e+05  \n",
       "mean   5.415113e+06  \n",
       "std    1.249468e+07  \n",
       "min    0.000000e+00  \n",
       "25%    1.221500e+06  \n",
       "50%    2.476250e+06  \n",
       "75%    5.222500e+06  \n",
       "max    8.596434e+08  "
      ]
     },
     "execution_count": 76,
     "metadata": {},
     "output_type": "execute_result"
    }
   ],
   "source": [
    "df.describe()"
   ]
  },
  {
   "cell_type": "code",
   "execution_count": 77,
   "id": "9db6af09",
   "metadata": {},
   "outputs": [
    {
     "name": "stdout",
     "output_type": "stream",
     "text": [
      "date \t-\t 0.0\n",
      "symbol \t-\t 0.0\n",
      "open \t-\t 0.0\n",
      "close \t-\t 0.0\n",
      "low \t-\t 0.0\n",
      "high \t-\t 0.0\n",
      "volume \t-\t 0.0\n"
     ]
    }
   ],
   "source": [
    "# showing column wise %ge of NaN values they contains \n",
    "\n",
    "for i in df.columns:\n",
    "  print(i,\"\\t-\\t\", df[i].isna().mean()*100)"
   ]
  },
  {
   "cell_type": "code",
   "execution_count": 78,
   "id": "053a87a0",
   "metadata": {},
   "outputs": [
    {
     "data": {
      "text/plain": [
       "<AxesSubplot:>"
      ]
     },
     "execution_count": 78,
     "metadata": {},
     "output_type": "execute_result"
    },
    {
     "data": {
      "image/png": "[encoded data removed]",
      "text/plain": [
       "<Figure size 360x360 with 2 Axes>"
      ]
     },
     "metadata": {
      "needs_background": "light"
     },
     "output_type": "display_data"
    }
   ],
   "source": [
    "df = df[df['symbol']=='AAP']   # Choosin stock values for any company \n",
    "\n",
    "cormap = df.corr()\n",
    "fig, ax = plt.subplots(figsize=(5,5))\n",
    "sns.heatmap(cormap, annot = True)"
   ]
  },
  {
   "cell_type": "code",
   "execution_count": 79,
   "id": "18904d68",
   "metadata": {},
   "outputs": [],
   "source": [
    "def get_corelated_col(cor_dat, threshold): \n",
    "  # Cor_data to be column along which corelation to be measured \n",
    "  #Threshold be the value above which of corelation to considered\n",
    "  feature=[]\n",
    "  value=[]\n",
    "\n",
    "  for i ,index in enumerate(cor_dat.index):\n",
    "    if abs(cor_dat[index]) > threshold:\n",
    "      feature.append(index)\n",
    "      value.append(cor_dat[index])\n",
    "\n",
    "  df = pd.DataFrame(data = value, index = feature, columns=['corr value'])\n",
    "  return df"
   ]
  },
  {
   "cell_type": "code",
   "execution_count": 80,
   "id": "629b1ea9",
   "metadata": {},
   "outputs": [
    {
     "data": {
      "text/html": [
       "<div>\n",
       "<style scoped>\n",
       "    .dataframe tbody tr th:only-of-type {\n",
       "        vertical-align: middle;\n",
       "    }\n",
       "\n",
       "    .dataframe tbody tr th {\n",
       "        vertical-align: top;\n",
       "    }\n",
       "\n",
       "    .dataframe thead th {\n",
       "        text-align: right;\n",
       "    }\n",
       "</style>\n",
       "<table border=\"1\" class=\"dataframe\">\n",
       "  <thead>\n",
       "    <tr style=\"text-align: right;\">\n",
       "      <th></th>\n",
       "      <th>corr value</th>\n",
       "    </tr>\n",
       "  </thead>\n",
       "  <tbody>\n",
       "    <tr>\n",
       "      <th>open</th>\n",
       "      <td>0.999382</td>\n",
       "    </tr>\n",
       "    <tr>\n",
       "      <th>close</th>\n",
       "      <td>1.000000</td>\n",
       "    </tr>\n",
       "    <tr>\n",
       "      <th>low</th>\n",
       "      <td>0.999615</td>\n",
       "    </tr>\n",
       "    <tr>\n",
       "      <th>high</th>\n",
       "      <td>0.999737</td>\n",
       "    </tr>\n",
       "  </tbody>\n",
       "</table>\n",
       "</div>"
      ],
      "text/plain": [
       "       corr value\n",
       "open     0.999382\n",
       "close    1.000000\n",
       "low      0.999615\n",
       "high     0.999737"
      ]
     },
     "execution_count": 80,
     "metadata": {},
     "output_type": "execute_result"
    }
   ],
   "source": [
    "top_corelated_values = get_corelated_col(cormap['close'], 0.60)\n",
    "top_corelated_values"
   ]
  },
  {
   "cell_type": "code",
   "execution_count": 81,
   "id": "6d415e5e",
   "metadata": {},
   "outputs": [
    {
     "data": {
      "text/html": [
       "<div>\n",
       "<style scoped>\n",
       "    .dataframe tbody tr th:only-of-type {\n",
       "        vertical-align: middle;\n",
       "    }\n",
       "\n",
       "    .dataframe tbody tr th {\n",
       "        vertical-align: top;\n",
       "    }\n",
       "\n",
       "    .dataframe thead th {\n",
       "        text-align: right;\n",
       "    }\n",
       "</style>\n",
       "<table border=\"1\" class=\"dataframe\">\n",
       "  <thead>\n",
       "    <tr style=\"text-align: right;\">\n",
       "      <th></th>\n",
       "      <th>open</th>\n",
       "      <th>close</th>\n",
       "      <th>low</th>\n",
       "      <th>high</th>\n",
       "    </tr>\n",
       "  </thead>\n",
       "  <tbody>\n",
       "    <tr>\n",
       "      <th>253</th>\n",
       "      <td>40.700001</td>\n",
       "      <td>40.380001</td>\n",
       "      <td>40.360001</td>\n",
       "      <td>41.040001</td>\n",
       "    </tr>\n",
       "    <tr>\n",
       "      <th>720</th>\n",
       "      <td>40.299999</td>\n",
       "      <td>40.139999</td>\n",
       "      <td>39.720001</td>\n",
       "      <td>40.310001</td>\n",
       "    </tr>\n",
       "    <tr>\n",
       "      <th>1188</th>\n",
       "      <td>40.049999</td>\n",
       "      <td>40.490002</td>\n",
       "      <td>40.049999</td>\n",
       "      <td>40.779999</td>\n",
       "    </tr>\n",
       "    <tr>\n",
       "      <th>1656</th>\n",
       "      <td>39.549999</td>\n",
       "      <td>40.480000</td>\n",
       "      <td>39.549999</td>\n",
       "      <td>40.540001</td>\n",
       "    </tr>\n",
       "    <tr>\n",
       "      <th>2124</th>\n",
       "      <td>40.250000</td>\n",
       "      <td>40.639999</td>\n",
       "      <td>40.110001</td>\n",
       "      <td>40.820000</td>\n",
       "    </tr>\n",
       "  </tbody>\n",
       "</table>\n",
       "</div>"
      ],
      "text/plain": [
       "           open      close        low       high\n",
       "253   40.700001  40.380001  40.360001  41.040001\n",
       "720   40.299999  40.139999  39.720001  40.310001\n",
       "1188  40.049999  40.490002  40.049999  40.779999\n",
       "1656  39.549999  40.480000  39.549999  40.540001\n",
       "2124  40.250000  40.639999  40.110001  40.820000"
      ]
     },
     "execution_count": 81,
     "metadata": {},
     "output_type": "execute_result"
    }
   ],
   "source": [
    "df = df[top_corelated_values.index]\n",
    "df.head()"
   ]
  },
  {
   "cell_type": "code",
   "execution_count": 82,
   "id": "b9434599",
   "metadata": {},
   "outputs": [
    {
     "data": {
      "text/plain": [
       "(1762, 4)"
      ]
     },
     "execution_count": 82,
     "metadata": {},
     "output_type": "execute_result"
    }
   ],
   "source": [
    "df.shape"
   ]
  },
  {
   "cell_type": "code",
   "execution_count": 83,
   "id": "a08a6f46",
   "metadata": {},
   "outputs": [
    {
     "data": {
      "image/png": "[encoded data removed]",
      "text/plain": [
       "<Figure size 720x720 with 20 Axes>"
      ]
     },
     "metadata": {
      "needs_background": "light"
     },
     "output_type": "display_data"
    }
   ],
   "source": [
    "sns.pairplot(df)\n",
    "plt.tight_layout()"
   ]
  },
  {
   "cell_type": "markdown",
   "id": "dbf6eabb",
   "metadata": {},
   "source": [
    "# Since other parameters have linear relationship with close, we are using some linear models fore prediction"
   ]
  },
  {
   "cell_type": "code",
   "execution_count": 84,
   "id": "23c38d3e",
   "metadata": {},
   "outputs": [],
   "source": [
    "X = df.drop(['close'], axis=1)\n",
    "y = df['close']"
   ]
  },
  {
   "cell_type": "markdown",
   "id": "e0540f59",
   "metadata": {},
   "source": [
    "# Since range of data in different columns veries significantly we need to scale the independent variable i.e. X. For this we will use Min-Max Scaling."
   ]
  },
  {
   "cell_type": "code",
   "execution_count": 85,
   "id": "1478f2fd",
   "metadata": {},
   "outputs": [
    {
     "data": {
      "text/html": [
       "<div>\n",
       "<style scoped>\n",
       "    .dataframe tbody tr th:only-of-type {\n",
       "        vertical-align: middle;\n",
       "    }\n",
       "\n",
       "    .dataframe tbody tr th {\n",
       "        vertical-align: top;\n",
       "    }\n",
       "\n",
       "    .dataframe thead th {\n",
       "        text-align: right;\n",
       "    }\n",
       "</style>\n",
       "<table border=\"1\" class=\"dataframe\">\n",
       "  <thead>\n",
       "    <tr style=\"text-align: right;\">\n",
       "      <th></th>\n",
       "      <th>open</th>\n",
       "      <th>low</th>\n",
       "      <th>high</th>\n",
       "    </tr>\n",
       "  </thead>\n",
       "  <tbody>\n",
       "    <tr>\n",
       "      <th>0</th>\n",
       "      <td>0.012001</td>\n",
       "      <td>0.012392</td>\n",
       "      <td>0.010256</td>\n",
       "    </tr>\n",
       "    <tr>\n",
       "      <th>1</th>\n",
       "      <td>0.009539</td>\n",
       "      <td>0.008387</td>\n",
       "      <td>0.005746</td>\n",
       "    </tr>\n",
       "    <tr>\n",
       "      <th>2</th>\n",
       "      <td>0.008000</td>\n",
       "      <td>0.010452</td>\n",
       "      <td>0.008649</td>\n",
       "    </tr>\n",
       "    <tr>\n",
       "      <th>3</th>\n",
       "      <td>0.004923</td>\n",
       "      <td>0.007323</td>\n",
       "      <td>0.007167</td>\n",
       "    </tr>\n",
       "    <tr>\n",
       "      <th>4</th>\n",
       "      <td>0.009231</td>\n",
       "      <td>0.010827</td>\n",
       "      <td>0.008897</td>\n",
       "    </tr>\n",
       "  </tbody>\n",
       "</table>\n",
       "</div>"
      ],
      "text/plain": [
       "       open       low      high\n",
       "0  0.012001  0.012392  0.010256\n",
       "1  0.009539  0.008387  0.005746\n",
       "2  0.008000  0.010452  0.008649\n",
       "3  0.004923  0.007323  0.007167\n",
       "4  0.009231  0.010827  0.008897"
      ]
     },
     "execution_count": 85,
     "metadata": {},
     "output_type": "execute_result"
    }
   ],
   "source": [
    "from sklearn.preprocessing import MinMaxScaler\n",
    "\n",
    "scaler = MinMaxScaler()\n",
    "X = pd.DataFrame(scaler.fit_transform(X), columns=X.columns)\n",
    "X.head()"
   ]
  },
  {
   "cell_type": "markdown",
   "id": "ed2fb0d2",
   "metadata": {},
   "source": [
    "# Prediction Model"
   ]
  },
  {
   "cell_type": "code",
   "execution_count": 86,
   "id": "45d28d53",
   "metadata": {},
   "outputs": [],
   "source": [
    "#now lets split data in test train pairs\n",
    "\n",
    "from sklearn.model_selection import train_test_split\n",
    "\n",
    "X_train, X_test, y_train, y_test = train_test_split(X, y, test_size = 0.2, shuffle=False)\n",
    "\n",
    "Acc = []"
   ]
  },
  {
   "cell_type": "markdown",
   "id": "2364d049",
   "metadata": {},
   "source": [
    "# Linear Regression"
   ]
  },
  {
   "cell_type": "code",
   "execution_count": 87,
   "id": "16fa2308",
   "metadata": {},
   "outputs": [
    {
     "data": {
      "text/plain": [
       "LinearRegression()"
      ]
     },
     "execution_count": 87,
     "metadata": {},
     "output_type": "execute_result"
    }
   ],
   "source": [
    "from sklearn.linear_model import LinearRegression\n",
    "\n",
    "# model training\n",
    "\n",
    "model_1 = LinearRegression()\n",
    "model_1.fit(X_train, y_train)"
   ]
  },
  {
   "cell_type": "code",
   "execution_count": 88,
   "id": "233e685e",
   "metadata": {},
   "outputs": [
    {
     "data": {
      "text/html": [
       "<div>\n",
       "<style scoped>\n",
       "    .dataframe tbody tr th:only-of-type {\n",
       "        vertical-align: middle;\n",
       "    }\n",
       "\n",
       "    .dataframe tbody tr th {\n",
       "        vertical-align: top;\n",
       "    }\n",
       "\n",
       "    .dataframe thead th {\n",
       "        text-align: right;\n",
       "    }\n",
       "</style>\n",
       "<table border=\"1\" class=\"dataframe\">\n",
       "  <thead>\n",
       "    <tr style=\"text-align: right;\">\n",
       "      <th></th>\n",
       "      <th>Actual</th>\n",
       "      <th>Predicted</th>\n",
       "    </tr>\n",
       "  </thead>\n",
       "  <tbody>\n",
       "    <tr>\n",
       "      <th>675111</th>\n",
       "      <td>173.660004</td>\n",
       "      <td>173.682489</td>\n",
       "    </tr>\n",
       "    <tr>\n",
       "      <th>675608</th>\n",
       "      <td>171.919998</td>\n",
       "      <td>172.593759</td>\n",
       "    </tr>\n",
       "    <tr>\n",
       "      <th>676105</th>\n",
       "      <td>172.000000</td>\n",
       "      <td>171.182789</td>\n",
       "    </tr>\n",
       "    <tr>\n",
       "      <th>676602</th>\n",
       "      <td>187.789993</td>\n",
       "      <td>187.980305</td>\n",
       "    </tr>\n",
       "    <tr>\n",
       "      <th>677099</th>\n",
       "      <td>187.029999</td>\n",
       "      <td>188.440838</td>\n",
       "    </tr>\n",
       "  </tbody>\n",
       "</table>\n",
       "</div>"
      ],
      "text/plain": [
       "            Actual   Predicted\n",
       "675111  173.660004  173.682489\n",
       "675608  171.919998  172.593759\n",
       "676105  172.000000  171.182789\n",
       "676602  187.789993  187.980305\n",
       "677099  187.029999  188.440838"
      ]
     },
     "execution_count": 88,
     "metadata": {},
     "output_type": "execute_result"
    }
   ],
   "source": [
    "# prediction\n",
    "y_pred_1 = model_1.predict(X_test)\n",
    "pred_df = pd.DataFrame({'Actual': y_test, 'Predicted': y_pred_1})\n",
    "pred_df.head()"
   ]
  },
  {
   "cell_type": "code",
   "execution_count": 89,
   "id": "ed6e0db2",
   "metadata": {},
   "outputs": [
    {
     "name": "stdout",
     "output_type": "stream",
     "text": [
      "Accuracy score of the predictions: 0.9931342019332019\n"
     ]
    }
   ],
   "source": [
    "# Measure the Accuracy Score\n",
    "\n",
    "from sklearn.metrics import r2_score\n",
    " \n",
    "print(\"Accuracy score of the predictions: {0}\".format(r2_score(y_test, y_pred_1)))\n",
    "Acc.append(r2_score(y_test, y_pred_1))"
   ]
  },
  {
   "cell_type": "code",
   "execution_count": 90,
   "id": "5413b38b",
   "metadata": {},
   "outputs": [
    {
     "data": {
      "image/png": "[encoded data removed]",
      "text/plain": [
       "<Figure size 576x576 with 1 Axes>"
      ]
     },
     "metadata": {
      "needs_background": "light"
     },
     "output_type": "display_data"
    }
   ],
   "source": [
    "plt.figure(figsize=(8,8))\n",
    "plt.ylabel('Close Price', fontsize=16)\n",
    "plt.plot(pred_df)\n",
    "plt.legend(['Actual Value', 'Predictions'])\n",
    "plt.show()"
   ]
  },
  {
   "cell_type": "markdown",
   "id": "12127e16",
   "metadata": {},
   "source": [
    "# CNN"
   ]
  },
  {
   "cell_type": "code",
   "execution_count": 91,
   "id": "c79eb3c0",
   "metadata": {},
   "outputs": [],
   "source": [
    "X_train = np.array(X_train).reshape(X_train.shape[0], X_train.shape[1], 1)\n",
    "X_test = np.array(X_test).reshape(X_test.shape[0], X_test.shape[1], 1)"
   ]
  },
  {
   "cell_type": "code",
   "execution_count": 92,
   "id": "6c178688",
   "metadata": {},
   "outputs": [],
   "source": [
    "from tensorflow.keras import Sequential,utils\n",
    "from tensorflow.keras.layers import Flatten, Dense, Conv1D, MaxPool1D, Dropout\n",
    "\n",
    "def reg():\n",
    "    \n",
    "    model = Sequential()\n",
    "    \n",
    "    model.add(Conv1D(32, kernel_size=(3,), padding='same', activation='relu', input_shape = (X_train.shape[1],1)))\n",
    "    model.add(Conv1D(64, kernel_size=(3,), padding='same', activation='relu'))\n",
    "    model.add(Conv1D(128, kernel_size=(5,), padding='same', activation='relu'))\n",
    "    \n",
    "    model.add(Flatten())\n",
    "    \n",
    "    model.add(Dense(50, activation='relu'))\n",
    "    model.add(Dense(20, activation='relu'))\n",
    "    model.add(Dense(units = 1))\n",
    "    \n",
    "    model.compile(loss='mean_squared_error', optimizer='adam')\n",
    "    \n",
    "    return model"
   ]
  },
  {
   "cell_type": "code",
   "execution_count": 93,
   "id": "be5eb2a1",
   "metadata": {},
   "outputs": [
    {
     "name": "stdout",
     "output_type": "stream",
     "text": [
      "Epoch 1/100\n",
      "36/36 [==============================] - 1s 14ms/step - loss: 5145.7764 - val_loss: 3973.7842\n",
      "Epoch 2/100\n",
      "36/36 [==============================] - 0s 5ms/step - loss: 177.6768 - val_loss: 11.3390\n",
      "Epoch 3/100\n",
      "36/36 [==============================] - 0s 6ms/step - loss: 7.2017 - val_loss: 24.9159\n",
      "Epoch 4/100\n",
      "36/36 [==============================] - 0s 6ms/step - loss: 1.6887 - val_loss: 4.0144\n",
      "Epoch 5/100\n",
      "36/36 [==============================] - 0s 6ms/step - loss: 0.7476 - val_loss: 2.3885\n",
      "Epoch 6/100\n",
      "36/36 [==============================] - 0s 5ms/step - loss: 0.5222 - val_loss: 1.8944\n",
      "Epoch 7/100\n",
      "36/36 [==============================] - 0s 5ms/step - loss: 0.4711 - val_loss: 1.8459\n",
      "Epoch 8/100\n",
      "36/36 [==============================] - 0s 6ms/step - loss: 0.4897 - val_loss: 1.8316\n",
      "Epoch 9/100\n",
      "36/36 [==============================] - 0s 5ms/step - loss: 0.5036 - val_loss: 1.9542\n",
      "Epoch 10/100\n",
      "36/36 [==============================] - 0s 5ms/step - loss: 0.4681 - val_loss: 1.8548\n",
      "Epoch 11/100\n",
      "36/36 [==============================] - 0s 5ms/step - loss: 0.4615 - val_loss: 1.8638\n",
      "Epoch 12/100\n",
      "36/36 [==============================] - 0s 5ms/step - loss: 0.4918 - val_loss: 1.9978\n",
      "Epoch 13/100\n",
      "36/36 [==============================] - 0s 5ms/step - loss: 0.4644 - val_loss: 2.0146\n",
      "Epoch 14/100\n",
      "36/36 [==============================] - 0s 5ms/step - loss: 0.4698 - val_loss: 1.8129\n",
      "Epoch 15/100\n",
      "36/36 [==============================] - 0s 5ms/step - loss: 0.4548 - val_loss: 1.8159\n",
      "Epoch 16/100\n",
      "36/36 [==============================] - 0s 5ms/step - loss: 0.4792 - val_loss: 1.7577\n",
      "Epoch 17/100\n",
      "36/36 [==============================] - 0s 5ms/step - loss: 0.4592 - val_loss: 1.7645\n",
      "Epoch 18/100\n",
      "36/36 [==============================] - 0s 6ms/step - loss: 0.4773 - val_loss: 1.9218\n",
      "Epoch 19/100\n",
      "36/36 [==============================] - 0s 5ms/step - loss: 0.4829 - val_loss: 1.7844\n",
      "Epoch 20/100\n",
      "36/36 [==============================] - 0s 6ms/step - loss: 0.4607 - val_loss: 1.9530\n",
      "Epoch 21/100\n",
      "36/36 [==============================] - 0s 7ms/step - loss: 0.4747 - val_loss: 1.9039\n",
      "Epoch 22/100\n",
      "36/36 [==============================] - 0s 7ms/step - loss: 0.4567 - val_loss: 1.7538\n",
      "Epoch 23/100\n",
      "36/36 [==============================] - ETA: 0s - loss: 0.453 - ETA: 0s - loss: 0.477 - 0s 6ms/step - loss: 0.4635 - val_loss: 1.7743\n",
      "Epoch 24/100\n",
      "36/36 [==============================] - 0s 6ms/step - loss: 0.4691 - val_loss: 1.7617\n",
      "Epoch 25/100\n",
      "36/36 [==============================] - 0s 6ms/step - loss: 0.4641 - val_loss: 1.9399\n",
      "Epoch 26/100\n",
      "36/36 [==============================] - 0s 6ms/step - loss: 0.4589 - val_loss: 2.0637\n",
      "Epoch 27/100\n",
      "36/36 [==============================] - 0s 7ms/step - loss: 0.4739 - val_loss: 1.7495\n",
      "Epoch 28/100\n",
      "36/36 [==============================] - 0s 6ms/step - loss: 0.4699 - val_loss: 1.7913\n",
      "Epoch 29/100\n",
      "36/36 [==============================] - 0s 6ms/step - loss: 0.5017 - val_loss: 1.7749\n",
      "Epoch 30/100\n",
      "36/36 [==============================] - 0s 6ms/step - loss: 0.4627 - val_loss: 1.8853\n",
      "Epoch 31/100\n",
      "36/36 [==============================] - 0s 5ms/step - loss: 0.4824 - val_loss: 1.7737\n",
      "Epoch 32/100\n",
      "36/36 [==============================] - 0s 6ms/step - loss: 0.4632 - val_loss: 1.8190\n",
      "Epoch 33/100\n",
      "36/36 [==============================] - 0s 6ms/step - loss: 0.4661 - val_loss: 1.9967\n",
      "Epoch 34/100\n",
      "36/36 [==============================] - 0s 6ms/step - loss: 0.4641 - val_loss: 1.7540\n",
      "Epoch 35/100\n",
      "36/36 [==============================] - 0s 6ms/step - loss: 0.5527 - val_loss: 2.0360\n",
      "Epoch 36/100\n",
      "36/36 [==============================] - 0s 5ms/step - loss: 0.4683 - val_loss: 2.0572\n",
      "Epoch 37/100\n",
      "36/36 [==============================] - 0s 5ms/step - loss: 0.5215 - val_loss: 1.7763\n",
      "Epoch 38/100\n",
      "36/36 [==============================] - 0s 5ms/step - loss: 0.4593 - val_loss: 1.7710\n",
      "Epoch 39/100\n",
      "36/36 [==============================] - 0s 5ms/step - loss: 0.4960 - val_loss: 2.1304\n",
      "Epoch 40/100\n",
      "36/36 [==============================] - 0s 9ms/step - loss: 0.4733 - val_loss: 1.7859\n",
      "Epoch 41/100\n",
      "36/36 [==============================] - 0s 6ms/step - loss: 0.4646 - val_loss: 1.7864\n",
      "Epoch 42/100\n",
      "36/36 [==============================] - 0s 7ms/step - loss: 0.4739 - val_loss: 1.7374\n",
      "Epoch 43/100\n",
      "36/36 [==============================] - 0s 6ms/step - loss: 0.5158 - val_loss: 1.9480\n",
      "Epoch 44/100\n",
      "36/36 [==============================] - 0s 6ms/step - loss: 0.4629 - val_loss: 1.8284\n",
      "Epoch 45/100\n",
      "36/36 [==============================] - 0s 6ms/step - loss: 0.4829 - val_loss: 1.7646\n",
      "Epoch 46/100\n",
      "36/36 [==============================] - 0s 6ms/step - loss: 0.4620 - val_loss: 1.7853\n",
      "Epoch 47/100\n",
      "36/36 [==============================] - 0s 6ms/step - loss: 0.4588 - val_loss: 1.9074\n",
      "Epoch 48/100\n",
      "36/36 [==============================] - 0s 7ms/step - loss: 0.4590 - val_loss: 1.7920\n",
      "Epoch 49/100\n",
      "36/36 [==============================] - 0s 6ms/step - loss: 0.4750 - val_loss: 1.9592\n",
      "Epoch 50/100\n",
      "36/36 [==============================] - 0s 7ms/step - loss: 0.5291 - val_loss: 1.7408\n",
      "Epoch 51/100\n",
      "36/36 [==============================] - 0s 7ms/step - loss: 0.4497 - val_loss: 1.7497\n",
      "Epoch 52/100\n",
      "36/36 [==============================] - 0s 7ms/step - loss: 0.4623 - val_loss: 1.7269\n",
      "Epoch 53/100\n",
      "36/36 [==============================] - 0s 6ms/step - loss: 0.4911 - val_loss: 2.4084\n",
      "Epoch 54/100\n",
      "36/36 [==============================] - 0s 6ms/step - loss: 0.5404 - val_loss: 1.8895\n",
      "Epoch 55/100\n",
      "36/36 [==============================] - 0s 6ms/step - loss: 0.4595 - val_loss: 1.7674\n",
      "Epoch 56/100\n",
      "36/36 [==============================] - 0s 7ms/step - loss: 0.5212 - val_loss: 1.9032\n",
      "Epoch 57/100\n",
      "36/36 [==============================] - 0s 7ms/step - loss: 0.5319 - val_loss: 1.9635\n",
      "Epoch 58/100\n",
      "36/36 [==============================] - 0s 6ms/step - loss: 0.4809 - val_loss: 1.7973\n",
      "Epoch 59/100\n",
      "36/36 [==============================] - 0s 6ms/step - loss: 0.5161 - val_loss: 1.7660\n",
      "Epoch 60/100\n",
      "36/36 [==============================] - 0s 6ms/step - loss: 0.4972 - val_loss: 2.6725\n",
      "Epoch 61/100\n",
      "36/36 [==============================] - 0s 8ms/step - loss: 0.5148 - val_loss: 1.7794\n",
      "Epoch 62/100\n",
      "36/36 [==============================] - 0s 7ms/step - loss: 0.4670 - val_loss: 2.1700\n",
      "Epoch 63/100\n",
      "36/36 [==============================] - 0s 8ms/step - loss: 0.7614 - val_loss: 2.0850\n",
      "Epoch 64/100\n",
      "36/36 [==============================] - 0s 8ms/step - loss: 0.5287 - val_loss: 1.8656\n",
      "Epoch 65/100\n",
      "36/36 [==============================] - 0s 8ms/step - loss: 0.5860 - val_loss: 1.7995\n",
      "Epoch 66/100\n",
      "36/36 [==============================] - 0s 7ms/step - loss: 0.4549 - val_loss: 1.7125\n",
      "Epoch 67/100\n",
      "36/36 [==============================] - 0s 8ms/step - loss: 0.5320 - val_loss: 2.3989\n",
      "Epoch 68/100\n",
      "36/36 [==============================] - 0s 7ms/step - loss: 0.5189 - val_loss: 1.9049\n",
      "Epoch 69/100\n",
      "36/36 [==============================] - 0s 7ms/step - loss: 0.5673 - val_loss: 1.7112\n",
      "Epoch 70/100\n",
      "36/36 [==============================] - 0s 6ms/step - loss: 0.5228 - val_loss: 2.0959\n",
      "Epoch 71/100\n",
      "36/36 [==============================] - 0s 6ms/step - loss: 0.6262 - val_loss: 1.9651\n",
      "Epoch 72/100\n",
      "36/36 [==============================] - 0s 5ms/step - loss: 0.5276 - val_loss: 1.7025\n",
      "Epoch 73/100\n",
      "36/36 [==============================] - 0s 6ms/step - loss: 0.4911 - val_loss: 2.2476\n",
      "Epoch 74/100\n",
      "36/36 [==============================] - 0s 6ms/step - loss: 0.5877 - val_loss: 2.0910\n",
      "Epoch 75/100\n",
      "36/36 [==============================] - 0s 6ms/step - loss: 0.4771 - val_loss: 2.0623\n",
      "Epoch 76/100\n",
      "36/36 [==============================] - 0s 6ms/step - loss: 0.6379 - val_loss: 1.7153\n",
      "Epoch 77/100\n",
      "36/36 [==============================] - 0s 7ms/step - loss: 0.4962 - val_loss: 1.7608\n",
      "Epoch 78/100\n",
      "36/36 [==============================] - 0s 6ms/step - loss: 0.6107 - val_loss: 2.7085\n",
      "Epoch 79/100\n",
      "36/36 [==============================] - 0s 6ms/step - loss: 0.5500 - val_loss: 2.2546\n",
      "Epoch 80/100\n",
      "36/36 [==============================] - 0s 6ms/step - loss: 0.5027 - val_loss: 2.3278\n",
      "Epoch 81/100\n",
      "36/36 [==============================] - 0s 7ms/step - loss: 0.5562 - val_loss: 3.0451\n",
      "Epoch 82/100\n",
      "36/36 [==============================] - 0s 6ms/step - loss: 0.5096 - val_loss: 1.8129\n",
      "Epoch 83/100\n",
      "36/36 [==============================] - 0s 6ms/step - loss: 0.5414 - val_loss: 3.0407\n",
      "Epoch 84/100\n",
      "36/36 [==============================] - 0s 5ms/step - loss: 0.6409 - val_loss: 2.6631\n",
      "Epoch 85/100\n",
      "36/36 [==============================] - 0s 7ms/step - loss: 0.6303 - val_loss: 2.3271\n",
      "Epoch 86/100\n",
      "36/36 [==============================] - 0s 5ms/step - loss: 0.4977 - val_loss: 1.7231\n",
      "Epoch 87/100\n",
      "36/36 [==============================] - 0s 6ms/step - loss: 0.4701 - val_loss: 1.7357\n",
      "Epoch 88/100\n",
      "36/36 [==============================] - 0s 7ms/step - loss: 0.4731 - val_loss: 1.8052\n",
      "Epoch 89/100\n",
      "36/36 [==============================] - 0s 5ms/step - loss: 0.4855 - val_loss: 1.8036\n",
      "Epoch 90/100\n",
      "36/36 [==============================] - 0s 6ms/step - loss: 0.5358 - val_loss: 1.6823\n",
      "Epoch 91/100\n",
      "36/36 [==============================] - 0s 6ms/step - loss: 0.4681 - val_loss: 2.0057\n",
      "Epoch 92/100\n",
      "36/36 [==============================] - 0s 6ms/step - loss: 0.5236 - val_loss: 1.6835\n",
      "Epoch 93/100\n",
      "36/36 [==============================] - 0s 6ms/step - loss: 0.5187 - val_loss: 3.8200\n",
      "Epoch 94/100\n",
      "36/36 [==============================] - 0s 5ms/step - loss: 0.6532 - val_loss: 2.4013\n",
      "Epoch 95/100\n",
      "36/36 [==============================] - 0s 7ms/step - loss: 0.5514 - val_loss: 1.9079\n",
      "Epoch 96/100\n",
      "36/36 [==============================] - 0s 5ms/step - loss: 0.4967 - val_loss: 1.6612\n",
      "Epoch 97/100\n",
      "36/36 [==============================] - 0s 6ms/step - loss: 0.4574 - val_loss: 2.0685\n",
      "Epoch 98/100\n",
      "36/36 [==============================] - 0s 6ms/step - loss: 0.5088 - val_loss: 1.6752\n",
      "Epoch 99/100\n",
      "36/36 [==============================] - 0s 5ms/step - loss: 0.5096 - val_loss: 1.8052\n",
      "Epoch 100/100\n",
      "36/36 [==============================] - 0s 6ms/step - loss: 0.6214 - val_loss: 2.1738\n"
     ]
    },
    {
     "data": {
      "text/plain": [
       "<tensorflow.python.keras.callbacks.History at 0x27a0087ce20>"
      ]
     },
     "execution_count": 93,
     "metadata": {},
     "output_type": "execute_result"
    }
   ],
   "source": [
    "# Model Training\n",
    "\n",
    "model_3 = reg()\n",
    "model_3.fit(X_train, y_train, epochs=100, validation_split=0.2)"
   ]
  },
  {
   "cell_type": "code",
   "execution_count": 94,
   "id": "871c7393",
   "metadata": {},
   "outputs": [],
   "source": [
    "# Prediction\n",
    "\n",
    "y_pred_3 = model_3.predict(X_test)"
   ]
  },
  {
   "cell_type": "code",
   "execution_count": 95,
   "id": "2764cbc4",
   "metadata": {},
   "outputs": [
    {
     "data": {
      "text/html": [
       "<div>\n",
       "<style scoped>\n",
       "    .dataframe tbody tr th:only-of-type {\n",
       "        vertical-align: middle;\n",
       "    }\n",
       "\n",
       "    .dataframe tbody tr th {\n",
       "        vertical-align: top;\n",
       "    }\n",
       "\n",
       "    .dataframe thead th {\n",
       "        text-align: right;\n",
       "    }\n",
       "</style>\n",
       "<table border=\"1\" class=\"dataframe\">\n",
       "  <thead>\n",
       "    <tr style=\"text-align: right;\">\n",
       "      <th></th>\n",
       "      <th>Actual</th>\n",
       "      <th>Predicted</th>\n",
       "    </tr>\n",
       "  </thead>\n",
       "  <tbody>\n",
       "    <tr>\n",
       "      <th>675111</th>\n",
       "      <td>173.660004</td>\n",
       "      <td>175.520966</td>\n",
       "    </tr>\n",
       "    <tr>\n",
       "      <th>675608</th>\n",
       "      <td>171.919998</td>\n",
       "      <td>173.844391</td>\n",
       "    </tr>\n",
       "    <tr>\n",
       "      <th>676105</th>\n",
       "      <td>172.000000</td>\n",
       "      <td>171.999176</td>\n",
       "    </tr>\n",
       "    <tr>\n",
       "      <th>676602</th>\n",
       "      <td>187.789993</td>\n",
       "      <td>180.760895</td>\n",
       "    </tr>\n",
       "    <tr>\n",
       "      <th>677099</th>\n",
       "      <td>187.029999</td>\n",
       "      <td>189.862396</td>\n",
       "    </tr>\n",
       "  </tbody>\n",
       "</table>\n",
       "</div>"
      ],
      "text/plain": [
       "            Actual   Predicted\n",
       "675111  173.660004  175.520966\n",
       "675608  171.919998  173.844391\n",
       "676105  172.000000  171.999176\n",
       "676602  187.789993  180.760895\n",
       "677099  187.029999  189.862396"
      ]
     },
     "execution_count": 95,
     "metadata": {},
     "output_type": "execute_result"
    }
   ],
   "source": [
    "pred_df = pd.DataFrame({'Actual': y_test, 'Predicted': y_pred_3.flatten()})\n",
    "pred_df.head()"
   ]
  },
  {
   "cell_type": "code",
   "execution_count": 96,
   "id": "8a11a316",
   "metadata": {},
   "outputs": [
    {
     "name": "stdout",
     "output_type": "stream",
     "text": [
      "Accuracy score of the predictions: 0.9840404923392058\n"
     ]
    }
   ],
   "source": [
    "# Measure the Accuracy Score\n",
    "\n",
    "from sklearn.metrics import r2_score\n",
    " \n",
    "print(\"Accuracy score of the predictions: {0}\".format(r2_score(y_test, y_pred_3)))\n",
    "Acc.append(r2_score(y_test, y_pred_3))"
   ]
  },
  {
   "cell_type": "code",
   "execution_count": 97,
   "id": "854ae15c",
   "metadata": {},
   "outputs": [
    {
     "data": {
      "image/png": "[encoded data removed]",
      "text/plain": [
       "<Figure size 576x576 with 1 Axes>"
      ]
     },
     "metadata": {
      "needs_background": "light"
     },
     "output_type": "display_data"
    }
   ],
   "source": [
    "plt.figure(figsize=(8,8))\n",
    "plt.ylabel('Close Price', fontsize=16)\n",
    "plt.plot(pred_df)\n",
    "plt.legend(['Actual Value', 'Predictions'])\n",
    "plt.show()"
   ]
  },
  {
   "cell_type": "markdown",
   "id": "b94d46a8",
   "metadata": {},
   "source": [
    "# Comparision of Accuracies of different models"
   ]
  },
  {
   "cell_type": "code",
   "execution_count": 98,
   "id": "30afd90b",
   "metadata": {},
   "outputs": [
    {
     "data": {
      "image/png": "[encoded data removed]",
      "text/plain": [
       "<Figure size 432x288 with 1 Axes>"
      ]
     },
     "metadata": {
      "needs_background": "light"
     },
     "output_type": "display_data"
    }
   ],
   "source": [
    "plt.plot(range(2), Acc, color='green', linestyle='dashed', linewidth = 3, \n",
    "         marker='o', markerfacecolor='blue', markersize=12) \n",
    "plt.ylabel('Acc')\n",
    "plt.xlabel('Models')\n",
    "plt.title(\"Accuracies\")\n",
    "plt.xticks(range(2), ['Linear Regression', 'CNN'])\n",
    "plt.show()"
   ]
  },
  {
   "cell_type": "markdown",
   "id": "bc1b53b3",
   "metadata": {},
   "source": [
    "# Now converting data in a time series data and applying some more models"
   ]
  },
  {
   "cell_type": "code",
   "execution_count": 99,
   "id": "ad95301c",
   "metadata": {},
   "outputs": [
    {
     "data": {
      "text/plain": [
       "0    40.380001\n",
       "1    40.139999\n",
       "2    40.490002\n",
       "3    40.480000\n",
       "4    40.639999\n",
       "Name: close, dtype: float64"
      ]
     },
     "execution_count": 99,
     "metadata": {},
     "output_type": "execute_result"
    }
   ],
   "source": [
    "close = df.reset_index()['close']\n",
    "close.head()"
   ]
  },
  {
   "cell_type": "code",
   "execution_count": 100,
   "id": "e9976818",
   "metadata": {},
   "outputs": [
    {
     "data": {
      "image/png": "[encoded data removed]",
      "text/plain": [
       "<Figure size 432x288 with 1 Axes>"
      ]
     },
     "metadata": {
      "needs_background": "light"
     },
     "output_type": "display_data"
    }
   ],
   "source": [
    "plt.plot(close)\n",
    "plt.show()"
   ]
  },
  {
   "cell_type": "code",
   "execution_count": 101,
   "id": "11e7c7fe",
   "metadata": {},
   "outputs": [],
   "source": [
    "time_step = 30\n",
    "X, y = [], []\n",
    "\n",
    "for i in range(len(close)-time_step-1):\n",
    "    X.append(close[i:(i+time_step)])\n",
    "    y.append(close[(i+time_step)])\n",
    "\n",
    "X = np.array(X)\n",
    "y = np.array(y)"
   ]
  },
  {
   "cell_type": "code",
   "execution_count": 102,
   "id": "41c51c37",
   "metadata": {},
   "outputs": [
    {
     "data": {
      "text/plain": [
       "array([[40.380001, 40.139999, 40.490002, 40.48    , 40.639999, 40.240002,\n",
       "        39.540001, 40.09    , 39.560001, 39.310001, 39.5     , 39.16    ,\n",
       "        39.23    , 39.740002, 40.5     , 40.549999, 40.59    , 39.77    ,\n",
       "        39.450001, 40.490002, 41.189999, 41.189999, 40.93    , 40.720001,\n",
       "        40.810001, 41.57    , 42.330002, 42.549999, 42.810001, 42.630001],\n",
       "       [40.139999, 40.490002, 40.48    , 40.639999, 40.240002, 39.540001,\n",
       "        40.09    , 39.560001, 39.310001, 39.5     , 39.16    , 39.23    ,\n",
       "        39.740002, 40.5     , 40.549999, 40.59    , 39.77    , 39.450001,\n",
       "        40.490002, 41.189999, 41.189999, 40.93    , 40.720001, 40.810001,\n",
       "        41.57    , 42.330002, 42.549999, 42.810001, 42.630001, 42.880001],\n",
       "       [40.490002, 40.48    , 40.639999, 40.240002, 39.540001, 40.09    ,\n",
       "        39.560001, 39.310001, 39.5     , 39.16    , 39.23    , 39.740002,\n",
       "        40.5     , 40.549999, 40.59    , 39.77    , 39.450001, 40.490002,\n",
       "        41.189999, 41.189999, 40.93    , 40.720001, 40.810001, 41.57    ,\n",
       "        42.330002, 42.549999, 42.810001, 42.630001, 42.880001, 40.150002],\n",
       "       [40.48    , 40.639999, 40.240002, 39.540001, 40.09    , 39.560001,\n",
       "        39.310001, 39.5     , 39.16    , 39.23    , 39.740002, 40.5     ,\n",
       "        40.549999, 40.59    , 39.77    , 39.450001, 40.490002, 41.189999,\n",
       "        41.189999, 40.93    , 40.720001, 40.810001, 41.57    , 42.330002,\n",
       "        42.549999, 42.810001, 42.630001, 42.880001, 40.150002, 40.      ],\n",
       "       [40.639999, 40.240002, 39.540001, 40.09    , 39.560001, 39.310001,\n",
       "        39.5     , 39.16    , 39.23    , 39.740002, 40.5     , 40.549999,\n",
       "        40.59    , 39.77    , 39.450001, 40.490002, 41.189999, 41.189999,\n",
       "        40.93    , 40.720001, 40.810001, 41.57    , 42.330002, 42.549999,\n",
       "        42.810001, 42.630001, 42.880001, 40.150002, 40.      , 40.240002]])"
      ]
     },
     "execution_count": 102,
     "metadata": {},
     "output_type": "execute_result"
    }
   ],
   "source": [
    "X[:5]"
   ]
  },
  {
   "cell_type": "code",
   "execution_count": 103,
   "id": "be12bfaf",
   "metadata": {},
   "outputs": [
    {
     "data": {
      "text/plain": [
       "array([42.880001, 40.150002, 40.      , 40.240002, 40.220001])"
      ]
     },
     "execution_count": 103,
     "metadata": {},
     "output_type": "execute_result"
    }
   ],
   "source": [
    "y[:5]"
   ]
  },
  {
   "cell_type": "code",
   "execution_count": 104,
   "id": "0a99d91a",
   "metadata": {},
   "outputs": [
    {
     "data": {
      "text/html": [
       "<div>\n",
       "<style scoped>\n",
       "    .dataframe tbody tr th:only-of-type {\n",
       "        vertical-align: middle;\n",
       "    }\n",
       "\n",
       "    .dataframe tbody tr th {\n",
       "        vertical-align: top;\n",
       "    }\n",
       "\n",
       "    .dataframe thead th {\n",
       "        text-align: right;\n",
       "    }\n",
       "</style>\n",
       "<table border=\"1\" class=\"dataframe\">\n",
       "  <thead>\n",
       "    <tr style=\"text-align: right;\">\n",
       "      <th></th>\n",
       "      <th>0</th>\n",
       "      <th>1</th>\n",
       "      <th>2</th>\n",
       "      <th>3</th>\n",
       "      <th>4</th>\n",
       "      <th>5</th>\n",
       "      <th>6</th>\n",
       "      <th>7</th>\n",
       "      <th>8</th>\n",
       "      <th>9</th>\n",
       "      <th>...</th>\n",
       "      <th>20</th>\n",
       "      <th>21</th>\n",
       "      <th>22</th>\n",
       "      <th>23</th>\n",
       "      <th>24</th>\n",
       "      <th>25</th>\n",
       "      <th>26</th>\n",
       "      <th>27</th>\n",
       "      <th>28</th>\n",
       "      <th>29</th>\n",
       "    </tr>\n",
       "  </thead>\n",
       "  <tbody>\n",
       "    <tr>\n",
       "      <th>0</th>\n",
       "      <td>0.007567</td>\n",
       "      <td>0.006079</td>\n",
       "      <td>0.008250</td>\n",
       "      <td>0.008188</td>\n",
       "      <td>0.009180</td>\n",
       "      <td>0.006699</td>\n",
       "      <td>0.002357</td>\n",
       "      <td>0.005769</td>\n",
       "      <td>0.002481</td>\n",
       "      <td>0.000930</td>\n",
       "      <td>...</td>\n",
       "      <td>0.007420</td>\n",
       "      <td>0.007420</td>\n",
       "      <td>0.005799</td>\n",
       "      <td>0.004489</td>\n",
       "      <td>0.005051</td>\n",
       "      <td>0.009789</td>\n",
       "      <td>0.014528</td>\n",
       "      <td>0.015900</td>\n",
       "      <td>0.017521</td>\n",
       "      <td>0.016399</td>\n",
       "    </tr>\n",
       "    <tr>\n",
       "      <th>1</th>\n",
       "      <td>0.006079</td>\n",
       "      <td>0.008250</td>\n",
       "      <td>0.008188</td>\n",
       "      <td>0.009180</td>\n",
       "      <td>0.006699</td>\n",
       "      <td>0.002357</td>\n",
       "      <td>0.005769</td>\n",
       "      <td>0.002481</td>\n",
       "      <td>0.000930</td>\n",
       "      <td>0.002109</td>\n",
       "      <td>...</td>\n",
       "      <td>0.007420</td>\n",
       "      <td>0.005799</td>\n",
       "      <td>0.004489</td>\n",
       "      <td>0.005051</td>\n",
       "      <td>0.009789</td>\n",
       "      <td>0.014528</td>\n",
       "      <td>0.015900</td>\n",
       "      <td>0.017521</td>\n",
       "      <td>0.016399</td>\n",
       "      <td>0.017957</td>\n",
       "    </tr>\n",
       "    <tr>\n",
       "      <th>2</th>\n",
       "      <td>0.008250</td>\n",
       "      <td>0.008188</td>\n",
       "      <td>0.009180</td>\n",
       "      <td>0.006699</td>\n",
       "      <td>0.002357</td>\n",
       "      <td>0.005769</td>\n",
       "      <td>0.002481</td>\n",
       "      <td>0.000930</td>\n",
       "      <td>0.002109</td>\n",
       "      <td>0.000000</td>\n",
       "      <td>...</td>\n",
       "      <td>0.005799</td>\n",
       "      <td>0.004489</td>\n",
       "      <td>0.005051</td>\n",
       "      <td>0.009789</td>\n",
       "      <td>0.014528</td>\n",
       "      <td>0.015900</td>\n",
       "      <td>0.017521</td>\n",
       "      <td>0.016399</td>\n",
       "      <td>0.017957</td>\n",
       "      <td>0.000935</td>\n",
       "    </tr>\n",
       "    <tr>\n",
       "      <th>3</th>\n",
       "      <td>0.008188</td>\n",
       "      <td>0.009180</td>\n",
       "      <td>0.006699</td>\n",
       "      <td>0.002357</td>\n",
       "      <td>0.005769</td>\n",
       "      <td>0.002481</td>\n",
       "      <td>0.000930</td>\n",
       "      <td>0.002109</td>\n",
       "      <td>0.000000</td>\n",
       "      <td>0.000434</td>\n",
       "      <td>...</td>\n",
       "      <td>0.004489</td>\n",
       "      <td>0.005051</td>\n",
       "      <td>0.009789</td>\n",
       "      <td>0.014528</td>\n",
       "      <td>0.015900</td>\n",
       "      <td>0.017521</td>\n",
       "      <td>0.016399</td>\n",
       "      <td>0.017957</td>\n",
       "      <td>0.000935</td>\n",
       "      <td>0.000000</td>\n",
       "    </tr>\n",
       "    <tr>\n",
       "      <th>4</th>\n",
       "      <td>0.009180</td>\n",
       "      <td>0.006699</td>\n",
       "      <td>0.002357</td>\n",
       "      <td>0.005769</td>\n",
       "      <td>0.002481</td>\n",
       "      <td>0.000930</td>\n",
       "      <td>0.002109</td>\n",
       "      <td>0.000000</td>\n",
       "      <td>0.000434</td>\n",
       "      <td>0.003598</td>\n",
       "      <td>...</td>\n",
       "      <td>0.005051</td>\n",
       "      <td>0.009789</td>\n",
       "      <td>0.014528</td>\n",
       "      <td>0.015900</td>\n",
       "      <td>0.017521</td>\n",
       "      <td>0.016399</td>\n",
       "      <td>0.017957</td>\n",
       "      <td>0.000935</td>\n",
       "      <td>0.000000</td>\n",
       "      <td>0.001496</td>\n",
       "    </tr>\n",
       "  </tbody>\n",
       "</table>\n",
       "<p>5 rows × 30 columns</p>\n",
       "</div>"
      ],
      "text/plain": [
       "         0         1         2         3         4         5         6   \\\n",
       "0  0.007567  0.006079  0.008250  0.008188  0.009180  0.006699  0.002357   \n",
       "1  0.006079  0.008250  0.008188  0.009180  0.006699  0.002357  0.005769   \n",
       "2  0.008250  0.008188  0.009180  0.006699  0.002357  0.005769  0.002481   \n",
       "3  0.008188  0.009180  0.006699  0.002357  0.005769  0.002481  0.000930   \n",
       "4  0.009180  0.006699  0.002357  0.005769  0.002481  0.000930  0.002109   \n",
       "\n",
       "         7         8         9   ...        20        21        22        23  \\\n",
       "0  0.005769  0.002481  0.000930  ...  0.007420  0.007420  0.005799  0.004489   \n",
       "1  0.002481  0.000930  0.002109  ...  0.007420  0.005799  0.004489  0.005051   \n",
       "2  0.000930  0.002109  0.000000  ...  0.005799  0.004489  0.005051  0.009789   \n",
       "3  0.002109  0.000000  0.000434  ...  0.004489  0.005051  0.009789  0.014528   \n",
       "4  0.000000  0.000434  0.003598  ...  0.005051  0.009789  0.014528  0.015900   \n",
       "\n",
       "         24        25        26        27        28        29  \n",
       "0  0.005051  0.009789  0.014528  0.015900  0.017521  0.016399  \n",
       "1  0.009789  0.014528  0.015900  0.017521  0.016399  0.017957  \n",
       "2  0.014528  0.015900  0.017521  0.016399  0.017957  0.000935  \n",
       "3  0.015900  0.017521  0.016399  0.017957  0.000935  0.000000  \n",
       "4  0.017521  0.016399  0.017957  0.000935  0.000000  0.001496  \n",
       "\n",
       "[5 rows x 30 columns]"
      ]
     },
     "execution_count": 104,
     "metadata": {},
     "output_type": "execute_result"
    }
   ],
   "source": [
    "from sklearn.preprocessing import MinMaxScaler\n",
    "\n",
    "scaler = MinMaxScaler()\n",
    "X = scaler.fit_transform(X)\n",
    "pd.DataFrame(X).head()"
   ]
  },
  {
   "cell_type": "markdown",
   "id": "cb236736",
   "metadata": {},
   "source": [
    "# Prediction"
   ]
  },
  {
   "cell_type": "code",
   "execution_count": 105,
   "id": "7fffd7d2",
   "metadata": {},
   "outputs": [],
   "source": [
    "#now lets split data in test train pairs\n",
    "\n",
    "from sklearn.model_selection import train_test_split\n",
    "\n",
    "X_train, X_test, y_train, y_test = train_test_split(X, y, test_size = 0.2, shuffle=False)\n",
    "\n",
    "Acc = []"
   ]
  },
  {
   "cell_type": "markdown",
   "id": "06898797",
   "metadata": {},
   "source": [
    "# LSTM"
   ]
  },
  {
   "cell_type": "code",
   "execution_count": 106,
   "id": "ca4aa89c",
   "metadata": {},
   "outputs": [],
   "source": [
    "X_train_ = X_train.reshape(X_train.shape[0],X_train.shape[1],1)\n",
    "X_test_ = X_test.reshape(X_test.shape[0],X_test.shape[1],1)"
   ]
  },
  {
   "cell_type": "code",
   "execution_count": 107,
   "id": "89defbeb",
   "metadata": {},
   "outputs": [],
   "source": [
    "from tensorflow.keras.layers import LSTM\n",
    "\n",
    "def Reg():\n",
    "    model = Sequential()\n",
    "    \n",
    "    model.add(LSTM(70, return_sequences=True, input_shape=(30,1)))\n",
    "    model.add(LSTM(70, return_sequences=True))\n",
    "    model.add(LSTM(70))\n",
    "    model.add(Dense(1))\n",
    "    \n",
    "    model.compile(loss='mean_squared_error', optimizer='adam')\n",
    "    \n",
    "    return model"
   ]
  },
  {
   "cell_type": "code",
   "execution_count": 108,
   "id": "067d725b",
   "metadata": {},
   "outputs": [
    {
     "name": "stdout",
     "output_type": "stream",
     "text": [
      "Epoch 1/100\n",
      "35/35 [==============================] - 2s 30ms/step - loss: 3317.8792 - val_loss: 35.1031\n",
      "Epoch 2/100\n",
      "35/35 [==============================] - 1s 22ms/step - loss: 85.7974 - val_loss: 166.7330\n",
      "Epoch 3/100\n",
      "35/35 [==============================] - 1s 21ms/step - loss: 19.2932 - val_loss: 53.7935\n",
      "Epoch 4/100\n",
      "35/35 [==============================] - 0s 11ms/step - loss: 15.8758 - val_loss: 51.0104\n",
      "Epoch 5/100\n",
      "35/35 [==============================] - 0s 11ms/step - loss: 15.6194 - val_loss: 46.9879\n",
      "Epoch 6/100\n",
      "35/35 [==============================] - 0s 12ms/step - loss: 15.2641 - val_loss: 34.6354\n",
      "Epoch 7/100\n",
      "35/35 [==============================] - 0s 11ms/step - loss: 15.3169 - val_loss: 33.7774\n",
      "Epoch 8/100\n",
      "35/35 [==============================] - 0s 12ms/step - loss: 15.4852 - val_loss: 42.6514\n",
      "Epoch 9/100\n",
      "35/35 [==============================] - 0s 11ms/step - loss: 15.7826 - val_loss: 44.3932\n",
      "Epoch 10/100\n",
      "35/35 [==============================] - 0s 11ms/step - loss: 15.7889 - val_loss: 64.2934\n",
      "Epoch 11/100\n",
      "35/35 [==============================] - 0s 11ms/step - loss: 14.6669 - val_loss: 31.8795\n",
      "Epoch 12/100\n",
      "35/35 [==============================] - 0s 12ms/step - loss: 14.5680 - val_loss: 35.9428\n",
      "Epoch 13/100\n",
      "35/35 [==============================] - 0s 11ms/step - loss: 15.3651 - val_loss: 46.3303\n",
      "Epoch 14/100\n",
      "35/35 [==============================] - 0s 11ms/step - loss: 13.8053 - val_loss: 42.5906\n",
      "Epoch 15/100\n",
      "35/35 [==============================] - 0s 10ms/step - loss: 13.8027 - val_loss: 35.6988\n",
      "Epoch 16/100\n",
      "35/35 [==============================] - 0s 11ms/step - loss: 14.1446 - val_loss: 28.4365\n",
      "Epoch 17/100\n",
      "35/35 [==============================] - 0s 10ms/step - loss: 14.4551 - val_loss: 28.6126\n",
      "Epoch 18/100\n",
      "35/35 [==============================] - 0s 10ms/step - loss: 12.9732 - val_loss: 48.8809\n",
      "Epoch 19/100\n",
      "35/35 [==============================] - 0s 11ms/step - loss: 12.4501 - val_loss: 35.0656\n",
      "Epoch 20/100\n",
      "35/35 [==============================] - 1s 16ms/step - loss: 12.6158 - val_loss: 28.2253\n",
      "Epoch 21/100\n",
      "35/35 [==============================] - 0s 13ms/step - loss: 12.4630 - val_loss: 28.9704\n",
      "Epoch 22/100\n",
      "35/35 [==============================] - 1s 16ms/step - loss: 12.0968 - val_loss: 28.0317\n",
      "Epoch 23/100\n",
      "35/35 [==============================] - 0s 13ms/step - loss: 12.1532 - val_loss: 36.5100\n",
      "Epoch 24/100\n",
      "35/35 [==============================] - 0s 12ms/step - loss: 11.5868 - val_loss: 23.1632\n",
      "Epoch 25/100\n",
      "35/35 [==============================] - 0s 12ms/step - loss: 11.0557 - val_loss: 29.6102\n",
      "Epoch 26/100\n",
      "35/35 [==============================] - 0s 12ms/step - loss: 11.1929 - val_loss: 26.1751\n",
      "Epoch 27/100\n",
      "35/35 [==============================] - 1s 18ms/step - loss: 11.7997 - val_loss: 21.5631\n",
      "Epoch 28/100\n",
      "35/35 [==============================] - 0s 12ms/step - loss: 10.2457 - val_loss: 25.1318\n",
      "Epoch 29/100\n",
      "35/35 [==============================] - 0s 12ms/step - loss: 9.7908 - val_loss: 40.7518\n",
      "Epoch 30/100\n",
      "35/35 [==============================] - 0s 12ms/step - loss: 10.4422 - val_loss: 20.0529\n",
      "Epoch 31/100\n",
      "35/35 [==============================] - ETA: 0s - loss: 9.650 - 0s 13ms/step - loss: 9.5219 - val_loss: 26.8404\n",
      "Epoch 32/100\n",
      "35/35 [==============================] - 1s 17ms/step - loss: 9.2048 - val_loss: 32.8340\n",
      "Epoch 33/100\n",
      "35/35 [==============================] - 0s 12ms/step - loss: 10.6013 - val_loss: 63.9351\n",
      "Epoch 34/100\n",
      "35/35 [==============================] - 0s 14ms/step - loss: 9.6063 - val_loss: 19.7046\n",
      "Epoch 35/100\n",
      "35/35 [==============================] - 0s 11ms/step - loss: 8.6567 - val_loss: 32.9005\n",
      "Epoch 36/100\n",
      "35/35 [==============================] - 0s 14ms/step - loss: 7.6784 - val_loss: 20.3809\n",
      "Epoch 37/100\n",
      "35/35 [==============================] - 1s 19ms/step - loss: 7.5925 - val_loss: 16.6281\n",
      "Epoch 38/100\n",
      "35/35 [==============================] - 1s 17ms/step - loss: 7.5581 - val_loss: 16.7512\n",
      "Epoch 39/100\n",
      "35/35 [==============================] - 1s 18ms/step - loss: 8.6218 - val_loss: 18.5397\n",
      "Epoch 40/100\n",
      "35/35 [==============================] - 1s 18ms/step - loss: 6.9582 - val_loss: 20.7491\n",
      "Epoch 41/100\n",
      "35/35 [==============================] - 1s 17ms/step - loss: 6.5629 - val_loss: 16.8826\n",
      "Epoch 42/100\n",
      "35/35 [==============================] - 1s 16ms/step - loss: 6.4300 - val_loss: 20.4191\n",
      "Epoch 43/100\n",
      "35/35 [==============================] - 0s 12ms/step - loss: 6.5340 - val_loss: 21.1888\n",
      "Epoch 44/100\n",
      "35/35 [==============================] - 0s 13ms/step - loss: 6.4448 - val_loss: 14.7234\n",
      "Epoch 45/100\n",
      "35/35 [==============================] - 0s 12ms/step - loss: 5.8849 - val_loss: 14.0388\n",
      "Epoch 46/100\n",
      "35/35 [==============================] - 1s 14ms/step - loss: 5.7150 - val_loss: 17.9546\n",
      "Epoch 47/100\n",
      "35/35 [==============================] - 0s 13ms/step - loss: 5.7146 - val_loss: 13.0717\n",
      "Epoch 48/100\n",
      "35/35 [==============================] - 0s 14ms/step - loss: 5.7511 - val_loss: 15.4749\n",
      "Epoch 49/100\n",
      "35/35 [==============================] - 0s 12ms/step - loss: 5.9343 - val_loss: 12.6305\n",
      "Epoch 50/100\n",
      "35/35 [==============================] - 0s 12ms/step - loss: 5.0510 - val_loss: 17.0480\n",
      "Epoch 51/100\n",
      "35/35 [==============================] - 1s 17ms/step - loss: 7.4818 - val_loss: 20.4116\n",
      "Epoch 52/100\n",
      "35/35 [==============================] - 0s 12ms/step - loss: 6.0091 - val_loss: 13.4252\n",
      "Epoch 53/100\n",
      "35/35 [==============================] - 0s 13ms/step - loss: 5.5526 - val_loss: 12.3891\n",
      "Epoch 54/100\n",
      "35/35 [==============================] - 0s 12ms/step - loss: 4.8604 - val_loss: 14.0400\n",
      "Epoch 55/100\n",
      "35/35 [==============================] - 0s 14ms/step - loss: 4.7644 - val_loss: 11.8407\n",
      "Epoch 56/100\n",
      "35/35 [==============================] - 0s 12ms/step - loss: 5.7402 - val_loss: 17.9555\n",
      "Epoch 57/100\n",
      "35/35 [==============================] - 0s 13ms/step - loss: 6.4396 - val_loss: 12.6914\n",
      "Epoch 58/100\n",
      "35/35 [==============================] - 1s 16ms/step - loss: 5.0301 - val_loss: 12.1028\n",
      "Epoch 59/100\n",
      "35/35 [==============================] - 0s 12ms/step - loss: 4.8554 - val_loss: 10.9453\n",
      "Epoch 60/100\n",
      "35/35 [==============================] - 1s 15ms/step - loss: 6.1640 - val_loss: 12.9993\n",
      "Epoch 61/100\n",
      "35/35 [==============================] - 1s 14ms/step - loss: 4.9584 - val_loss: 13.1502\n",
      "Epoch 62/100\n",
      "35/35 [==============================] - 0s 13ms/step - loss: 4.7545 - val_loss: 13.3654\n",
      "Epoch 63/100\n",
      "35/35 [==============================] - 0s 12ms/step - loss: 5.8404 - val_loss: 10.4128\n",
      "Epoch 64/100\n",
      "35/35 [==============================] - 0s 10ms/step - loss: 4.1599 - val_loss: 17.5346\n",
      "Epoch 65/100\n",
      "35/35 [==============================] - 0s 10ms/step - loss: 4.3082 - val_loss: 10.4039\n",
      "Epoch 66/100\n",
      "35/35 [==============================] - 0s 10ms/step - loss: 4.2960 - val_loss: 15.9460\n",
      "Epoch 67/100\n",
      "35/35 [==============================] - 0s 10ms/step - loss: 5.6004 - val_loss: 18.7412\n",
      "Epoch 68/100\n",
      "35/35 [==============================] - 0s 12ms/step - loss: 5.3514 - val_loss: 15.9821\n",
      "Epoch 69/100\n",
      "35/35 [==============================] - 0s 10ms/step - loss: 4.2130 - val_loss: 16.3651\n",
      "Epoch 70/100\n",
      "35/35 [==============================] - 1s 18ms/step - loss: 3.9864 - val_loss: 14.9143\n",
      "Epoch 71/100\n",
      "35/35 [==============================] - 1s 17ms/step - loss: 3.6012 - val_loss: 10.3086\n",
      "Epoch 72/100\n",
      "35/35 [==============================] - 1s 27ms/step - loss: 5.0051 - val_loss: 16.5210\n",
      "Epoch 73/100\n",
      "35/35 [==============================] - 0s 12ms/step - loss: 3.8462 - val_loss: 10.5664\n",
      "Epoch 74/100\n",
      "35/35 [==============================] - 0s 14ms/step - loss: 4.2023 - val_loss: 10.9878\n",
      "Epoch 75/100\n",
      "35/35 [==============================] - 0s 13ms/step - loss: 3.6587 - val_loss: 14.1778\n",
      "Epoch 76/100\n",
      "35/35 [==============================] - 1s 18ms/step - loss: 3.5772 - val_loss: 20.7644\n",
      "Epoch 77/100\n",
      "35/35 [==============================] - 0s 14ms/step - loss: 7.4061 - val_loss: 26.3989\n",
      "Epoch 78/100\n",
      "35/35 [==============================] - 1s 15ms/step - loss: 4.7643 - val_loss: 15.7373\n",
      "Epoch 79/100\n",
      "35/35 [==============================] - 0s 11ms/step - loss: 3.3042 - val_loss: 9.1580\n",
      "Epoch 80/100\n",
      "35/35 [==============================] - 0s 11ms/step - loss: 4.5883 - val_loss: 9.4254\n",
      "Epoch 81/100\n",
      "35/35 [==============================] - 0s 13ms/step - loss: 3.9675 - val_loss: 8.6242\n",
      "Epoch 82/100\n",
      "35/35 [==============================] - 0s 10ms/step - loss: 3.0971 - val_loss: 8.7759\n",
      "Epoch 83/100\n",
      "35/35 [==============================] - 0s 12ms/step - loss: 3.6362 - val_loss: 8.4390\n",
      "Epoch 84/100\n",
      "35/35 [==============================] - 0s 10ms/step - loss: 3.8708 - val_loss: 8.1032\n",
      "Epoch 85/100\n",
      "35/35 [==============================] - 0s 9ms/step - loss: 5.5960 - val_loss: 11.4494\n",
      "Epoch 86/100\n",
      "35/35 [==============================] - 0s 12ms/step - loss: 3.5452 - val_loss: 8.6210\n",
      "Epoch 87/100\n",
      "35/35 [==============================] - 1s 15ms/step - loss: 4.3199 - val_loss: 8.1828\n",
      "Epoch 88/100\n",
      "35/35 [==============================] - 0s 14ms/step - loss: 3.2593 - val_loss: 20.6889\n",
      "Epoch 89/100\n",
      "35/35 [==============================] - 0s 11ms/step - loss: 3.3960 - val_loss: 7.8830\n",
      "Epoch 90/100\n",
      "35/35 [==============================] - 0s 12ms/step - loss: 2.8488 - val_loss: 14.1653\n",
      "Epoch 91/100\n",
      "35/35 [==============================] - 0s 11ms/step - loss: 3.9787 - val_loss: 16.5759\n",
      "Epoch 92/100\n",
      "35/35 [==============================] - 0s 14ms/step - loss: 3.0078 - val_loss: 10.2350\n",
      "Epoch 93/100\n",
      "35/35 [==============================] - 0s 12ms/step - loss: 3.4203 - val_loss: 7.5601\n",
      "Epoch 94/100\n",
      "35/35 [==============================] - 0s 14ms/step - loss: 4.0261 - val_loss: 8.1695\n",
      "Epoch 95/100\n",
      "35/35 [==============================] - 0s 12ms/step - loss: 2.7435 - val_loss: 7.6832\n",
      "Epoch 96/100\n",
      "35/35 [==============================] - 0s 11ms/step - loss: 3.6718 - val_loss: 21.6784\n",
      "Epoch 97/100\n",
      "35/35 [==============================] - 0s 13ms/step - loss: 2.8008 - val_loss: 7.5702\n",
      "Epoch 98/100\n",
      "35/35 [==============================] - 0s 13ms/step - loss: 2.7155 - val_loss: 7.3154\n",
      "Epoch 99/100\n",
      "35/35 [==============================] - 0s 9ms/step - loss: 2.5379 - val_loss: 9.7633\n",
      "Epoch 100/100\n",
      "35/35 [==============================] - 0s 10ms/step - loss: 3.0621 - val_loss: 7.9450\n"
     ]
    },
    {
     "data": {
      "text/plain": [
       "<tensorflow.python.keras.callbacks.History at 0x27a0150e7f0>"
      ]
     },
     "execution_count": 108,
     "metadata": {},
     "output_type": "execute_result"
    }
   ],
   "source": [
    "# Model Training\n",
    "\n",
    "model_1 = reg()\n",
    "model_1.fit(X_train_, y_train, epochs=100, validation_split=0.2)"
   ]
  },
  {
   "cell_type": "code",
   "execution_count": 109,
   "id": "15481bf0",
   "metadata": {},
   "outputs": [],
   "source": [
    "# Prediction\n",
    "\n",
    "y_pred_1 = model_1.predict(X_test_)"
   ]
  },
  {
   "cell_type": "code",
   "execution_count": 110,
   "id": "37860b11",
   "metadata": {},
   "outputs": [
    {
     "data": {
      "text/html": [
       "<div>\n",
       "<style scoped>\n",
       "    .dataframe tbody tr th:only-of-type {\n",
       "        vertical-align: middle;\n",
       "    }\n",
       "\n",
       "    .dataframe tbody tr th {\n",
       "        vertical-align: top;\n",
       "    }\n",
       "\n",
       "    .dataframe thead th {\n",
       "        text-align: right;\n",
       "    }\n",
       "</style>\n",
       "<table border=\"1\" class=\"dataframe\">\n",
       "  <thead>\n",
       "    <tr style=\"text-align: right;\">\n",
       "      <th></th>\n",
       "      <th>Actual</th>\n",
       "      <th>Predicted</th>\n",
       "    </tr>\n",
       "  </thead>\n",
       "  <tbody>\n",
       "    <tr>\n",
       "      <th>0</th>\n",
       "      <td>184.690002</td>\n",
       "      <td>182.753204</td>\n",
       "    </tr>\n",
       "    <tr>\n",
       "      <th>1</th>\n",
       "      <td>185.770004</td>\n",
       "      <td>184.526367</td>\n",
       "    </tr>\n",
       "    <tr>\n",
       "      <th>2</th>\n",
       "      <td>187.839996</td>\n",
       "      <td>185.666153</td>\n",
       "    </tr>\n",
       "    <tr>\n",
       "      <th>3</th>\n",
       "      <td>184.449997</td>\n",
       "      <td>186.836639</td>\n",
       "    </tr>\n",
       "    <tr>\n",
       "      <th>4</th>\n",
       "      <td>177.539993</td>\n",
       "      <td>186.533600</td>\n",
       "    </tr>\n",
       "  </tbody>\n",
       "</table>\n",
       "</div>"
      ],
      "text/plain": [
       "       Actual   Predicted\n",
       "0  184.690002  182.753204\n",
       "1  185.770004  184.526367\n",
       "2  187.839996  185.666153\n",
       "3  184.449997  186.836639\n",
       "4  177.539993  186.533600"
      ]
     },
     "execution_count": 110,
     "metadata": {},
     "output_type": "execute_result"
    }
   ],
   "source": [
    "pred_df = pd.DataFrame({'Actual': y_test, 'Predicted': y_pred_1.flatten()})\n",
    "pred_df.head()"
   ]
  },
  {
   "cell_type": "code",
   "execution_count": 111,
   "id": "c40b4631",
   "metadata": {},
   "outputs": [
    {
     "name": "stdout",
     "output_type": "stream",
     "text": [
      "Accuracy score of the predictions: 0.9197786553870849\n"
     ]
    }
   ],
   "source": [
    "# Measure the Accuracy Score\n",
    "\n",
    "from sklearn.metrics import r2_score\n",
    " \n",
    "print(\"Accuracy score of the predictions: {0}\".format(r2_score(y_test, y_pred_1)))\n",
    "Acc.append(r2_score(y_test, y_pred_1))"
   ]
  },
  {
   "cell_type": "code",
   "execution_count": 112,
   "id": "cd75c835",
   "metadata": {},
   "outputs": [
    {
     "data": {
      "image/png": "[encoded data removed]",
      "text/plain": [
       "<Figure size 576x576 with 1 Axes>"
      ]
     },
     "metadata": {
      "needs_background": "light"
     },
     "output_type": "display_data"
    }
   ],
   "source": [
    "plt.figure(figsize=(8,8))\n",
    "plt.ylabel('Close Price', fontsize=16)\n",
    "plt.plot(pred_df)\n",
    "plt.legend(['Actual Value', 'Predictions'])\n",
    "plt.show()"
   ]
  },
  {
   "cell_type": "markdown",
   "id": "553ff8a0",
   "metadata": {},
   "source": [
    "# CNN"
   ]
  },
  {
   "cell_type": "code",
   "execution_count": 113,
   "id": "4c27bbc2",
   "metadata": {},
   "outputs": [
    {
     "name": "stdout",
     "output_type": "stream",
     "text": [
      "Epoch 1/100\n",
      "35/35 [==============================] - 2s 23ms/step - loss: 3407.5032 - val_loss: 122.4829\n",
      "Epoch 2/100\n",
      "35/35 [==============================] - 0s 10ms/step - loss: 96.2382 - val_loss: 182.6645\n",
      "Epoch 3/100\n",
      "35/35 [==============================] - 0s 12ms/step - loss: 18.5644 - val_loss: 56.9183\n",
      "Epoch 4/100\n",
      "35/35 [==============================] - 0s 12ms/step - loss: 15.7279 - val_loss: 44.6977\n",
      "Epoch 5/100\n",
      "35/35 [==============================] - 0s 12ms/step - loss: 15.1467 - val_loss: 41.8016\n",
      "Epoch 6/100\n",
      "35/35 [==============================] - 0s 12ms/step - loss: 15.2835 - val_loss: 40.3740\n",
      "Epoch 7/100\n",
      "35/35 [==============================] - 0s 13ms/step - loss: 15.2480 - val_loss: 56.8382\n",
      "Epoch 8/100\n",
      "35/35 [==============================] - 0s 10ms/step - loss: 14.8600 - val_loss: 34.0494\n",
      "Epoch 9/100\n",
      "35/35 [==============================] - 0s 11ms/step - loss: 14.3527 - val_loss: 48.6536\n",
      "Epoch 10/100\n",
      "35/35 [==============================] - 0s 12ms/step - loss: 14.8970 - val_loss: 34.2311\n",
      "Epoch 11/100\n",
      "35/35 [==============================] - 0s 11ms/step - loss: 14.2299 - val_loss: 28.6171\n",
      "Epoch 12/100\n",
      "35/35 [==============================] - 0s 12ms/step - loss: 15.3849 - val_loss: 41.9557\n",
      "Epoch 13/100\n",
      "35/35 [==============================] - 0s 12ms/step - loss: 13.4993 - val_loss: 30.9464\n",
      "Epoch 14/100\n",
      "35/35 [==============================] - 0s 12ms/step - loss: 13.7427 - val_loss: 34.3740\n",
      "Epoch 15/100\n",
      "35/35 [==============================] - 0s 9ms/step - loss: 15.3282 - val_loss: 55.1107\n",
      "Epoch 16/100\n",
      "35/35 [==============================] - 1s 17ms/step - loss: 15.0352 - val_loss: 45.6940\n",
      "Epoch 17/100\n",
      "35/35 [==============================] - 1s 27ms/step - loss: 13.4389 - val_loss: 27.6621\n",
      "Epoch 18/100\n",
      "35/35 [==============================] - 1s 21ms/step - loss: 12.7572 - val_loss: 38.2431\n",
      "Epoch 19/100\n",
      "35/35 [==============================] - 0s 11ms/step - loss: 12.5142 - val_loss: 25.7096\n",
      "Epoch 20/100\n",
      "35/35 [==============================] - 0s 12ms/step - loss: 13.2159 - val_loss: 25.6745\n",
      "Epoch 21/100\n",
      "35/35 [==============================] - 0s 10ms/step - loss: 11.7769 - val_loss: 30.8711\n",
      "Epoch 22/100\n",
      "35/35 [==============================] - 0s 10ms/step - loss: 11.4753 - val_loss: 26.0960\n",
      "Epoch 23/100\n",
      "35/35 [==============================] - 0s 10ms/step - loss: 11.5671 - val_loss: 26.7989\n",
      "Epoch 24/100\n",
      "35/35 [==============================] - 0s 12ms/step - loss: 11.0832 - val_loss: 23.3457\n",
      "Epoch 25/100\n",
      "35/35 [==============================] - 0s 12ms/step - loss: 10.4759 - val_loss: 22.6100\n",
      "Epoch 26/100\n",
      "35/35 [==============================] - 1s 23ms/step - loss: 10.3486 - val_loss: 20.0872\n",
      "Epoch 27/100\n",
      "35/35 [==============================] - 0s 14ms/step - loss: 10.3310 - val_loss: 19.4012\n",
      "Epoch 28/100\n",
      "35/35 [==============================] - 1s 17ms/step - loss: 9.0626 - val_loss: 21.9144\n",
      "Epoch 29/100\n",
      "35/35 [==============================] - 0s 13ms/step - loss: 8.3571 - val_loss: 28.2685\n",
      "Epoch 30/100\n",
      "35/35 [==============================] - 0s 12ms/step - loss: 8.3487 - val_loss: 25.6474\n",
      "Epoch 31/100\n",
      "35/35 [==============================] - 0s 13ms/step - loss: 8.8534 - val_loss: 20.2609\n",
      "Epoch 32/100\n",
      "35/35 [==============================] - 0s 12ms/step - loss: 7.5409 - val_loss: 52.7008\n",
      "Epoch 33/100\n",
      "35/35 [==============================] - 1s 14ms/step - loss: 8.3214 - val_loss: 16.6551\n",
      "Epoch 34/100\n",
      "35/35 [==============================] - 0s 12ms/step - loss: 6.7662 - val_loss: 30.5468\n",
      "Epoch 35/100\n",
      "35/35 [==============================] - 1s 15ms/step - loss: 7.9845 - val_loss: 16.5947\n",
      "Epoch 36/100\n",
      "35/35 [==============================] - 0s 13ms/step - loss: 6.4273 - val_loss: 17.1188\n",
      "Epoch 37/100\n",
      "35/35 [==============================] - 0s 11ms/step - loss: 6.5797 - val_loss: 16.6316\n",
      "Epoch 38/100\n",
      "35/35 [==============================] - 0s 14ms/step - loss: 6.6347 - val_loss: 15.3177\n",
      "Epoch 39/100\n",
      "35/35 [==============================] - 0s 11ms/step - loss: 6.5599 - val_loss: 15.6585\n",
      "Epoch 40/100\n",
      "35/35 [==============================] - 0s 10ms/step - loss: 5.6417 - val_loss: 13.5991\n",
      "Epoch 41/100\n",
      "35/35 [==============================] - 0s 11ms/step - loss: 6.0179 - val_loss: 39.0403\n",
      "Epoch 42/100\n",
      "35/35 [==============================] - 0s 10ms/step - loss: 6.9419 - val_loss: 19.0778\n",
      "Epoch 43/100\n",
      "35/35 [==============================] - 0s 10ms/step - loss: 5.4196 - val_loss: 15.0818\n",
      "Epoch 44/100\n",
      "35/35 [==============================] - 0s 11ms/step - loss: 5.2174 - val_loss: 16.3337\n",
      "Epoch 45/100\n",
      "35/35 [==============================] - 1s 18ms/step - loss: 5.6320 - val_loss: 12.4294\n",
      "Epoch 46/100\n",
      "35/35 [==============================] - 1s 15ms/step - loss: 5.3155 - val_loss: 13.5127\n",
      "Epoch 47/100\n",
      "35/35 [==============================] - 1s 18ms/step - loss: 7.7119 - val_loss: 69.5764\n",
      "Epoch 48/100\n",
      "35/35 [==============================] - 0s 14ms/step - loss: 6.4344 - val_loss: 15.8045\n",
      "Epoch 49/100\n",
      "35/35 [==============================] - 1s 16ms/step - loss: 5.2510 - val_loss: 19.9658\n",
      "Epoch 50/100\n",
      "35/35 [==============================] - 1s 22ms/step - loss: 5.2950 - val_loss: 24.9400\n",
      "Epoch 51/100\n",
      "35/35 [==============================] - 1s 21ms/step - loss: 4.9453 - val_loss: 12.5216\n",
      "Epoch 52/100\n",
      "35/35 [==============================] - 1s 19ms/step - loss: 5.5331 - val_loss: 13.0686\n",
      "Epoch 53/100\n",
      "35/35 [==============================] - 1s 15ms/step - loss: 5.4243 - val_loss: 14.6230\n",
      "Epoch 54/100\n",
      "35/35 [==============================] - 1s 16ms/step - loss: 5.7597 - val_loss: 35.4422\n",
      "Epoch 55/100\n",
      "35/35 [==============================] - 1s 14ms/step - loss: 5.3295 - val_loss: 18.5297\n",
      "Epoch 56/100\n",
      "35/35 [==============================] - 0s 12ms/step - loss: 4.7660 - val_loss: 11.5886\n",
      "Epoch 57/100\n",
      "35/35 [==============================] - 0s 10ms/step - loss: 4.1774 - val_loss: 23.1012\n",
      "Epoch 58/100\n",
      "35/35 [==============================] - 0s 11ms/step - loss: 4.1365 - val_loss: 13.1013\n",
      "Epoch 59/100\n",
      "35/35 [==============================] - 0s 10ms/step - loss: 4.0072 - val_loss: 11.0861\n",
      "Epoch 60/100\n",
      "35/35 [==============================] - 0s 11ms/step - loss: 4.0752 - val_loss: 20.9938\n",
      "Epoch 61/100\n",
      "35/35 [==============================] - 0s 11ms/step - loss: 5.6961 - val_loss: 15.2416\n",
      "Epoch 62/100\n",
      "35/35 [==============================] - 0s 10ms/step - loss: 5.0302 - val_loss: 15.0687\n",
      "Epoch 63/100\n",
      "35/35 [==============================] - 0s 10ms/step - loss: 4.5938 - val_loss: 12.3558\n",
      "Epoch 64/100\n",
      "35/35 [==============================] - 0s 9ms/step - loss: 3.8725 - val_loss: 12.0762\n",
      "Epoch 65/100\n",
      "35/35 [==============================] - 0s 10ms/step - loss: 4.8479 - val_loss: 9.6294\n",
      "Epoch 66/100\n",
      "35/35 [==============================] - 0s 12ms/step - loss: 3.5916 - val_loss: 9.5620\n",
      "Epoch 67/100\n",
      "35/35 [==============================] - 1s 20ms/step - loss: 3.8018 - val_loss: 9.4960\n",
      "Epoch 68/100\n",
      "35/35 [==============================] - 1s 16ms/step - loss: 3.6678 - val_loss: 9.5152\n",
      "Epoch 69/100\n",
      "35/35 [==============================] - 0s 14ms/step - loss: 3.9333 - val_loss: 9.1265\n",
      "Epoch 70/100\n",
      "35/35 [==============================] - 1s 16ms/step - loss: 3.7597 - val_loss: 8.9715\n",
      "Epoch 71/100\n",
      "35/35 [==============================] - 1s 22ms/step - loss: 3.8660 - val_loss: 8.9102\n",
      "Epoch 72/100\n",
      "35/35 [==============================] - 0s 14ms/step - loss: 3.7129 - val_loss: 12.2379\n",
      "Epoch 73/100\n",
      "35/35 [==============================] - 1s 16ms/step - loss: 3.5089 - val_loss: 8.6898\n",
      "Epoch 74/100\n",
      "35/35 [==============================] - 0s 12ms/step - loss: 4.2930 - val_loss: 13.1174\n",
      "Epoch 75/100\n",
      "35/35 [==============================] - 0s 13ms/step - loss: 3.5973 - val_loss: 25.9235\n",
      "Epoch 76/100\n",
      "35/35 [==============================] - 0s 10ms/step - loss: 4.0665 - val_loss: 10.9556\n",
      "Epoch 77/100\n",
      "35/35 [==============================] - 0s 12ms/step - loss: 3.1773 - val_loss: 10.2468\n",
      "Epoch 78/100\n",
      "35/35 [==============================] - 0s 11ms/step - loss: 3.4028 - val_loss: 26.0676\n",
      "Epoch 79/100\n",
      "35/35 [==============================] - 0s 10ms/step - loss: 3.6530 - val_loss: 13.1745\n",
      "Epoch 80/100\n",
      "35/35 [==============================] - 0s 10ms/step - loss: 3.2067 - val_loss: 11.6756\n",
      "Epoch 81/100\n",
      "35/35 [==============================] - 0s 13ms/step - loss: 3.3105 - val_loss: 11.4865\n",
      "Epoch 82/100\n",
      "35/35 [==============================] - 1s 23ms/step - loss: 2.9467 - val_loss: 10.5810\n",
      "Epoch 83/100\n",
      "35/35 [==============================] - 1s 21ms/step - loss: 3.3155 - val_loss: 8.6378\n",
      "Epoch 84/100\n",
      "35/35 [==============================] - 1s 19ms/step - loss: 4.1011 - val_loss: 10.0643\n",
      "Epoch 85/100\n",
      "35/35 [==============================] - 1s 16ms/step - loss: 3.2971 - val_loss: 8.1717\n",
      "Epoch 86/100\n",
      "35/35 [==============================] - 0s 13ms/step - loss: 3.5941 - val_loss: 9.1693\n",
      "Epoch 87/100\n",
      "35/35 [==============================] - 1s 14ms/step - loss: 2.7270 - val_loss: 7.8840\n",
      "Epoch 88/100\n",
      "35/35 [==============================] - 0s 12ms/step - loss: 2.6876 - val_loss: 8.2792\n",
      "Epoch 89/100\n",
      "35/35 [==============================] - 0s 14ms/step - loss: 3.6746 - val_loss: 8.3752\n",
      "Epoch 90/100\n",
      "35/35 [==============================] - 0s 13ms/step - loss: 3.6037 - val_loss: 8.0912\n",
      "Epoch 91/100\n",
      "35/35 [==============================] - 0s 13ms/step - loss: 3.5044 - val_loss: 7.7057\n",
      "Epoch 92/100\n",
      "35/35 [==============================] - 0s 10ms/step - loss: 4.4839 - val_loss: 7.3901\n",
      "Epoch 93/100\n",
      "35/35 [==============================] - 0s 10ms/step - loss: 3.9617 - val_loss: 9.7859\n",
      "Epoch 94/100\n",
      "35/35 [==============================] - 0s 10ms/step - loss: 2.9440 - val_loss: 26.3251\n",
      "Epoch 95/100\n",
      "35/35 [==============================] - 0s 10ms/step - loss: 3.7924 - val_loss: 7.4062\n",
      "Epoch 96/100\n",
      "35/35 [==============================] - 0s 12ms/step - loss: 3.1521 - val_loss: 10.2051\n",
      "Epoch 97/100\n",
      "35/35 [==============================] - 0s 10ms/step - loss: 3.0626 - val_loss: 7.5073\n",
      "Epoch 98/100\n",
      "35/35 [==============================] - 0s 11ms/step - loss: 2.8262 - val_loss: 8.6254\n",
      "Epoch 99/100\n",
      "35/35 [==============================] - 0s 11ms/step - loss: 4.7541 - val_loss: 7.1242\n",
      "Epoch 100/100\n",
      "35/35 [==============================] - 0s 10ms/step - loss: 3.0046 - val_loss: 26.4693\n"
     ]
    },
    {
     "data": {
      "text/plain": [
       "<tensorflow.python.keras.callbacks.History at 0x27a03073f10>"
      ]
     },
     "execution_count": 113,
     "metadata": {},
     "output_type": "execute_result"
    }
   ],
   "source": [
    "# Model Training\n",
    "\n",
    "model_3 = reg()\n",
    "model_3.fit(X_train_, y_train, epochs=100, validation_split=0.2)"
   ]
  },
  {
   "cell_type": "code",
   "execution_count": 114,
   "id": "3c824ef6",
   "metadata": {},
   "outputs": [],
   "source": [
    "# Prediction\n",
    "\n",
    "y_pred_3 = model_3.predict(X_test_)"
   ]
  },
  {
   "cell_type": "code",
   "execution_count": 115,
   "id": "12b6c8da",
   "metadata": {},
   "outputs": [
    {
     "data": {
      "text/html": [
       "<div>\n",
       "<style scoped>\n",
       "    .dataframe tbody tr th:only-of-type {\n",
       "        vertical-align: middle;\n",
       "    }\n",
       "\n",
       "    .dataframe tbody tr th {\n",
       "        vertical-align: top;\n",
       "    }\n",
       "\n",
       "    .dataframe thead th {\n",
       "        text-align: right;\n",
       "    }\n",
       "</style>\n",
       "<table border=\"1\" class=\"dataframe\">\n",
       "  <thead>\n",
       "    <tr style=\"text-align: right;\">\n",
       "      <th></th>\n",
       "      <th>Actual</th>\n",
       "      <th>Predicted</th>\n",
       "    </tr>\n",
       "  </thead>\n",
       "  <tbody>\n",
       "    <tr>\n",
       "      <th>0</th>\n",
       "      <td>184.690002</td>\n",
       "      <td>179.287064</td>\n",
       "    </tr>\n",
       "    <tr>\n",
       "      <th>1</th>\n",
       "      <td>185.770004</td>\n",
       "      <td>181.249863</td>\n",
       "    </tr>\n",
       "    <tr>\n",
       "      <th>2</th>\n",
       "      <td>187.839996</td>\n",
       "      <td>181.282181</td>\n",
       "    </tr>\n",
       "    <tr>\n",
       "      <th>3</th>\n",
       "      <td>184.449997</td>\n",
       "      <td>181.935333</td>\n",
       "    </tr>\n",
       "    <tr>\n",
       "      <th>4</th>\n",
       "      <td>177.539993</td>\n",
       "      <td>181.687805</td>\n",
       "    </tr>\n",
       "  </tbody>\n",
       "</table>\n",
       "</div>"
      ],
      "text/plain": [
       "       Actual   Predicted\n",
       "0  184.690002  179.287064\n",
       "1  185.770004  181.249863\n",
       "2  187.839996  181.282181\n",
       "3  184.449997  181.935333\n",
       "4  177.539993  181.687805"
      ]
     },
     "execution_count": 115,
     "metadata": {},
     "output_type": "execute_result"
    }
   ],
   "source": [
    "pred_df = pd.DataFrame({'Actual': y_test, 'Predicted': y_pred_3.flatten()})\n",
    "pred_df.head()"
   ]
  },
  {
   "cell_type": "code",
   "execution_count": 116,
   "id": "2cb5a207",
   "metadata": {},
   "outputs": [
    {
     "name": "stdout",
     "output_type": "stream",
     "text": [
      "Accuracy score of the predictions: 0.8554368086389876\n"
     ]
    }
   ],
   "source": [
    "# Measure the Accuracy Score\n",
    "\n",
    "from sklearn.metrics import r2_score\n",
    " \n",
    "print(\"Accuracy score of the predictions: {0}\".format(r2_score(y_test, y_pred_3)))\n",
    "Acc.append(r2_score(y_test, y_pred_3))"
   ]
  },
  {
   "cell_type": "code",
   "execution_count": 117,
   "id": "5fb50dcd",
   "metadata": {},
   "outputs": [
    {
     "data": {
      "image/png": "[encoded data removed]",
      "text/plain": [
       "<Figure size 576x576 with 1 Axes>"
      ]
     },
     "metadata": {
      "needs_background": "light"
     },
     "output_type": "display_data"
    }
   ],
   "source": [
    "plt.figure(figsize=(8,8))\n",
    "plt.ylabel('Close Price', fontsize=16)\n",
    "plt.plot(pred_df)\n",
    "plt.legend(['Actual Value', 'Predictions'])\n",
    "plt.show()"
   ]
  },
  {
   "cell_type": "markdown",
   "id": "1e177007",
   "metadata": {},
   "source": [
    "# Comparision of Accuracies of different models"
   ]
  },
  {
   "cell_type": "code",
   "execution_count": 120,
   "id": "eeffb73c",
   "metadata": {},
   "outputs": [
    {
     "data": {
      "image/png": "[encoded data removed]",
      "text/plain": [
       "<Figure size 432x288 with 1 Axes>"
      ]
     },
     "metadata": {
      "needs_background": "light"
     },
     "output_type": "display_data"
    }
   ],
   "source": [
    "plt.plot(range(2), Acc, color='green', linestyle='dashed', linewidth = 3, \n",
    "         marker='o', markerfacecolor='blue', markersize=12) \n",
    "plt.ylabel('Acc')\n",
    "plt.xlabel('Models')\n",
    "plt.title(\"Accuracies\")\n",
    "plt.xticks(range(2), ['LSTM', 'CNN'])\n",
    "plt.show()"
   ]
  },
  {
   "cell_type": "code",
   "execution_count": null,
   "id": "1eb65b5f",
   "metadata": {},
   "outputs": [],
   "source": []
  }
 ],
 "metadata": {
  "kernelspec": {
   "display_name": "Python 3 (ipykernel)",
   "language": "python",
   "name": "python3"
  },
  "language_info": {
   "codemirror_mode": {
    "name": "ipython",
    "version": 3
   },
   "file_extension": ".py",
   "mimetype": "text/x-python",
   "name": "python",
   "nbconvert_exporter": "python",
   "pygments_lexer": "ipython3",
   "version": "3.9.12"
  }
 },
 "nbformat": 4,
 "nbformat_minor": 5
}
